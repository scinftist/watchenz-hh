{
 "cells": [
  {
   "cell_type": "code",
   "execution_count": 1,
   "metadata": {},
   "outputs": [],
   "source": [
    "from PIL import Image, ImageDraw, ImageFilter , ImageFont\n",
    "import numpy as np\n",
    "import os\n",
    "import glob\n",
    "import pandas as pd\n",
    "import matplotlib.pyplot as plt\n",
    "import json\n",
    "punk_cap = 10000\n",
    "from functools import lru_cache\n",
    "from random import randrange\n",
    "import time\n"
   ]
  },
  {
   "cell_type": "code",
   "execution_count": 2,
   "metadata": {
    "scrolled": true
   },
   "outputs": [],
   "source": [
    "jj = {}\n",
    "with open('./quantity_folder/Quantities.json','r') as f:\n",
    "    rf =f.read()\n",
    "    jj =json.loads(rf)\n",
    "# print(jj)"
   ]
  },
  {
   "cell_type": "code",
   "execution_count": 3,
   "metadata": {},
   "outputs": [
    {
     "data": {
      "text/plain": [
       "dict_keys(['bezel_marker', 'color_a', 'color_b', 'color_c', 'hands', 'hour_marker', 'minute_marker', 'strap', 'crownGaurd', 'ref'])"
      ]
     },
     "execution_count": 3,
     "metadata": {},
     "output_type": "execute_result"
    }
   ],
   "source": [
    "jj.keys()"
   ]
  },
  {
   "cell_type": "markdown",
   "metadata": {},
   "source": [
    "The value of run length encoded values for gene production to check against ./Quantities.json"
   ]
  },
  {
   "cell_type": "code",
   "execution_count": 4,
   "metadata": {},
   "outputs": [],
   "source": [
    "val_check = {'bezel_marker': 41, 'color_a': 53, 'color_b': 61, 'color_c': 59, 'hands': 31, 'hour_marker': 43, 'minute_marker': 47, 'strap': 37, 'crownGaurd': 29, 'ref': 23}\n"
   ]
  },
  {
   "cell_type": "markdown",
   "metadata": {},
   "source": [
    "## value check"
   ]
  },
  {
   "cell_type": "code",
   "execution_count": 5,
   "metadata": {},
   "outputs": [
    {
     "name": "stdout",
     "output_type": "stream",
     "text": [
      "{'bezel_marker': 41, 'color_a': 53, 'color_b': 61, 'color_c': 59, 'hands': 31, 'hour_marker': 43, 'minute_marker': 47, 'strap': 37, 'crownGaurd': 29, 'ref': 23}\n"
     ]
    }
   ],
   "source": [
    "ttd = {}\n",
    "tt = 0\n",
    "for k in jj.keys():\n",
    "    tt = 0\n",
    "    for kk in jj[k].keys():\n",
    "#         print(td)\n",
    "#         td.append(jj[k][kk])\n",
    "       tt += jj[k][kk]['code']\n",
    "    ttd.update({k:tt})\n",
    "\n",
    "print(ttd)\n",
    "for nk in  ttd.keys():\n",
    "    assert ttd[nk] == val_check[nk]\n",
    "\n",
    "for ck in  val_check.keys():\n",
    "    assert ttd[nk] == val_check[nk]\n"
   ]
  },
  {
   "cell_type": "code",
   "execution_count": 6,
   "metadata": {
    "scrolled": true
   },
   "outputs": [
    {
     "name": "stdout",
     "output_type": "stream",
     "text": [
      "{'bezel_marker': [{'name': 'Fluted', 'code': 9}, {'name': 'Dive', 'code': 11}, {'name': 'count-up', 'code': 15}, {'name': 'simple', 'code': 6}], 'color_a': [{'name': 'pepenite', 'code': 1}, {'name': 'white gold', 'code': 15}, {'name': 'Immutable Rose Gold', 'code': 12}, {'name': 'Steel', 'code': 6}, {'name': 'Gold', 'code': 8}, {'name': 'Carbide', 'code': 11}], 'color_b': [{'name': 'Royal Azure', 'code': 9}, {'name': 'Base Pink', 'code': 2}, {'name': 'Tomato', 'code': 5}, {'name': 'Lavender', 'code': 5}, {'name': 'Sandstorm', 'code': 1}, {'name': 'Lambo', 'code': 5}, {'name': 'Zucchini', 'code': 7}, {'name': 'Spruce', 'code': 5}, {'name': 'Tiffany', 'code': 5}, {'name': 'Jaguar', 'code': 7}, {'name': 'Midnight', 'code': 5}, {'name': 'Shiraz', 'code': 5}], 'color_c': [{'name': 'Gold', 'code': 6}, {'name': 'Hulk', 'code': 7}, {'name': 'Miladyium', 'code': 6}, {'name': 'Carbide', 'code': 6}, {'name': 'white Gold', 'code': 6}, {'name': 'Candy Blue', 'code': 8}, {'name': 'Steel', 'code': 6}, {'name': 'Nakamigium', 'code': 6}, {'name': 'Barbium', 'code': 3}, {'name': 'Immutable Rose Gold', 'code': 5}], 'hands': [{'name': 'Plongeur', 'code': 10}, {'name': 'Duaphine', 'code': 14}, {'name': 'Baton', 'code': 7}], 'hour_marker': [{'name': 'Roman', 'code': 11}, {'name': 'Numerals', 'code': 10}, {'name': 'GM Time', 'code': 5}, {'name': 'Arabic', 'code': 2}, {'name': 'Double Baguette', 'code': 7}, {'name': 'Baguette', 'code': 8}], 'minute_marker': [{'name': 'Railroad track with sub-seconds', 'code': 9}, {'name': 'Sticks-1', 'code': 10}, {'name': 'Sub-seconds', 'code': 2}, {'name': 'Railroad track-1', 'code': 8}, {'name': 'Sticks-2', 'code': 6}, {'name': 'Railroad track-2', 'code': 4}, {'name': 'Sticks-Numerals', 'code': 8}], 'strap': [{'name': 'Jubliee', 'code': 7}, {'name': 'Oyster', 'code': 11}, {'name': 'Jubilee Reverso', 'code': 5}, {'name': 'Genuine Rubber', 'code': 4}, {'name': 'Nato', 'code': 10}], 'crownGaurd': [{'name': 'Simple Crown', 'code': 10}, {'name': 'Crown Gaurd', 'code': 19}], 'ref': [{'name': 'Simple', 'code': 3}, {'name': 'Date', 'code': 13}, {'name': 'Day-Date', 'code': 7}]}\n"
     ]
    }
   ],
   "source": [
    "rd = {}\n",
    "td =[]\n",
    "for k in jj.keys():\n",
    "    td =[]\n",
    "    for kk in jj[k].keys():\n",
    "#         print(td)\n",
    "        td.append(jj[k][kk])\n",
    "    rd.update({k:td})\n",
    "print(rd)"
   ]
  },
  {
   "cell_type": "code",
   "execution_count": 7,
   "metadata": {},
   "outputs": [],
   "source": [
    "resDict = rd"
   ]
  },
  {
   "cell_type": "markdown",
   "metadata": {},
   "source": [
    "## attributes list"
   ]
  },
  {
   "cell_type": "code",
   "execution_count": 8,
   "metadata": {},
   "outputs": [],
   "source": [
    "columns=['color_a', 'color_b','color_c','strap','crownGaurd','hands','hour_marker','minute_marker','bezel_marker',\"ref\"]"
   ]
  },
  {
   "cell_type": "code",
   "execution_count": 9,
   "metadata": {},
   "outputs": [
    {
     "name": "stdout",
     "output_type": "stream",
     "text": [
      "['color_a_byte_str', 'color_b_byte_str', 'color_c_byte_str', 'strap_byte_str', 'crownGaurd_byte_str', 'hands_byte_str', 'hour_marker_byte_str', 'minute_marker_byte_str', 'bezel_marker_byte_str', 'ref_byte_str']\n"
     ]
    }
   ],
   "source": [
    "byte_str_columns = [i+'_byte_str' for i in columns]\n",
    "print(byte_str_columns)"
   ]
  },
  {
   "cell_type": "code",
   "execution_count": 10,
   "metadata": {},
   "outputs": [],
   "source": [
    "df = pd.DataFrame( columns=columns)\n",
    "df_gene = pd.DataFrame( columns=byte_str_columns)"
   ]
  },
  {
   "cell_type": "code",
   "execution_count": 11,
   "metadata": {},
   "outputs": [
    {
     "data": {
      "text/plain": [
       "bytes"
      ]
     },
     "execution_count": 11,
     "metadata": {},
     "output_type": "execute_result"
    }
   ],
   "source": [
    "type((1).to_bytes(1, byteorder='big'))"
   ]
  },
  {
   "cell_type": "code",
   "execution_count": 12,
   "metadata": {},
   "outputs": [
    {
     "name": "stdout",
     "output_type": "stream",
     "text": [
      "0001010101010101010101010101010102020202020202020202020203030303030304040404040404040505050505050505050505\n",
      "0000000000000000000101020202020203030303030405050505050606060606060607070707070808080808090909090909090a0a0a0a0a0b0b0b0b0b\n",
      "0000000000000101010101010102020202020203030303030304040404040405050505050505050606060606060707070707070808080909090909\n",
      "00000000000000010101010101010101010102020202020303030304040404040404040404\n",
      "0000000000000000000001010101010101010101010101010101010101\n",
      "00000000000000000000010101010101010101010101010102020202020202\n",
      "00000000000000000000000101010101010101010102020202020303040404040404040505050505050505\n",
      "0000000000000000000101010101010101010102020303030303030303040404040404050505050606060606060606\n",
      "0000000000000000000101010101010101010101020202020202020202020202020202030303030303\n",
      "0000000101010101010101010101010102020202020202\n",
      "{'color_a_gene': '0001010101010101010101010101010102020202020202020202020203030303030304040404040404040505050505050505050505', 'color_b_gene': '0000000000000000000101020202020203030303030405050505050606060606060607070707070808080808090909090909090a0a0a0a0a0b0b0b0b0b', 'color_c_gene': '0000000000000101010101010102020202020203030303030304040404040405050505050505050606060606060707070707070808080909090909', 'strap_gene': '00000000000000010101010101010101010102020202020303030304040404040404040404', 'crownGaurd_gene': '0000000000000000000001010101010101010101010101010101010101', 'hands_gene': '00000000000000000000010101010101010101010101010102020202020202', 'hour_marker_gene': '00000000000000000000000101010101010101010102020202020303040404040404040505050505050505', 'minute_marker_gene': '0000000000000000000101010101010101010102020303030303030303040404040404050505050606060606060606', 'bezel_marker_gene': '0000000000000000000101010101010101010101020202020202020202020202020202030303030303', 'ref_gene': '0000000101010101010101010101010102020202020202'}\n"
     ]
    }
   ],
   "source": [
    "source_gene_pool = {}\n",
    "for _col in columns:\n",
    "    _gene = ''\n",
    "    for i in range(len(resDict[_col])):\n",
    "        for j in range(resDict[_col][i][\"code\"]):\n",
    "            _gene += ((i).to_bytes(1, byteorder='big').hex())\n",
    "    print(_gene)\n",
    "    source_gene_pool[_col+\"_gene\"] = _gene\n",
    "    \n",
    "print(source_gene_pool)"
   ]
  },
  {
   "cell_type": "code",
   "execution_count": 13,
   "metadata": {},
   "outputs": [],
   "source": [
    "def random_perm( length, alphabet=None):\n",
    "    new_alphabet = alphabet.copy()\n",
    "    res = []\n",
    "    if new_alphabet is None:\n",
    "        raise KeyboardInterrupt\n",
    "    for i in range(length):\n",
    "        _ind = randrange(len(new_alphabet))\n",
    "        \n",
    "        _item = new_alphabet.pop(_ind)\n",
    "        res.append(_item)\n",
    "    return res\n",
    "        "
   ]
  },
  {
   "cell_type": "code",
   "execution_count": 14,
   "metadata": {
    "scrolled": true
   },
   "outputs": [
    {
     "name": "stdout",
     "output_type": "stream",
     "text": [
      "0 ['g', 'a', 'd', 'b', 'f', 'h', 'c', 'e']\n",
      "0 ['e', 'f', 'c', 'h', 'a', 'd', 'b', 'g']\n",
      "0 ['a', 'b', 'c', 'h', 'd', 'f', 'g', 'e']\n",
      "0 ['g', 'c', 'b', 'f', 'h', 'd', 'e', 'a']\n",
      "0 ['f', 'a', 'e', 'h', 'd', 'g', 'c', 'b']\n"
     ]
    }
   ],
   "source": [
    "s = ['a','b','c','d','e','f','g','h']\n",
    "nn= s.copy()\n",
    "for i in range(5):\n",
    "#     nn= s.copy()\n",
    "    print(0,random_perm(len(nn),alphabet=nn))"
   ]
  },
  {
   "cell_type": "code",
   "execution_count": 15,
   "metadata": {},
   "outputs": [
    {
     "data": {
      "text/plain": [
       "46"
      ]
     },
     "execution_count": 15,
     "metadata": {},
     "output_type": "execute_result"
    }
   ],
   "source": [
    "len(source_gene_pool['ref_gene'])"
   ]
  },
  {
   "cell_type": "code",
   "execution_count": 16,
   "metadata": {},
   "outputs": [],
   "source": [
    "def get_gene_2():\n",
    "    target_gene_pool = {}\n",
    "    for _col in columns:\n",
    "        _temp_gene_list = []\n",
    "        _temp_gene = ''\n",
    "        _gene = source_gene_pool[_col+\"_gene\"]\n",
    "        _gene_list = [_gene[_l*2:_l*2+2] for _l in range(len(_gene)//2)]\n",
    "        _gene_list_len =len(_gene_list)\n",
    "        _temp_gene_list =random_perm( length=_gene_list_len, alphabet=_gene_list)\n",
    "        for _t in _temp_gene_list:\n",
    "            _temp_gene += _t\n",
    "        target_gene_pool.update({_col+\"_gene\":_temp_gene})\n",
    "#     print(target_gene_pool)\n",
    "    return target_gene_pool"
   ]
  },
  {
   "cell_type": "code",
   "execution_count": 17,
   "metadata": {},
   "outputs": [],
   "source": [
    "def attributeGen(_gene_pool,col,num):\n",
    "    _gene = _gene_pool[col+\"_gene\"]\n",
    "    assert len(_gene)%2 == 0\n",
    "    _l = int(len(_gene)/2)\n",
    "    _ind = int(num % _l)\n",
    "    _index = int(_gene[_ind*2:_ind*2+2],16)\n",
    "    return(resDict[col][_index][\"name\"],_gene[_ind*2:_ind*2+2])"
   ]
  },
  {
   "cell_type": "code",
   "execution_count": 18,
   "metadata": {
    "scrolled": true
   },
   "outputs": [
    {
     "name": "stdout",
     "output_type": "stream",
     "text": [
      "run  0  part  0\n",
      "run  0  part  12000\n",
      "run  0  part  24000\n",
      "onplace : 107\n",
      "time of loop 0  66\n",
      "sanity : True\n",
      "sum of duplicates:  107\n",
      "run  1  part  0\n",
      "run  1  part  12000\n",
      "run  1  part  24000\n",
      "onplace : 102\n",
      "time of loop 1  70\n",
      "sanity : True\n",
      "sum of duplicates:  102\n",
      "run  2  part  0\n",
      "run  2  part  12000\n",
      "run  2  part  24000\n",
      "onplace : 97\n",
      "time of loop 2  72\n",
      "sanity : True\n",
      "sum of duplicates:  97\n",
      "fffffffff\n",
      "fffffffff\n",
      "fffffffff\n",
      "fffffffff\n",
      "fffffffff\n",
      "\n",
      "2\n"
     ]
    }
   ],
   "source": [
    "for _index_counter in range(100):\n",
    "    df_gene =pd.DataFrame(columns=byte_str_columns)\n",
    "    _target_pool = get_gene_2()\n",
    "    _time_start = int(time.time())\n",
    "    \n",
    "\n",
    "    for i in range(24_100):\n",
    "        for _col in columns:\n",
    "            val, byteval = attributeGen(_target_pool,_col,i)\n",
    "#             df.loc[i,_col] =val\n",
    "            df_gene.loc[i,_col+'_byte_str'] =byteval\n",
    "            \n",
    "        if i%12000 == 0:\n",
    "            print(\"run \",_index_counter,' part ',i)\n",
    "    df_gene[\"DNA\"] = df_gene.values.sum(axis=1)\n",
    "    print(\"onplace :\",df_gene.duplicated().sum())\n",
    "    df_dup = df_gene['DNA'].duplicated()\n",
    "    print('time of loop',_index_counter,'', int(time.time())-_time_start)\n",
    "    sd = df_dup.sum()\n",
    "    print(\"sanity :\",sd == df_gene.duplicated().sum())\n",
    "    print('sum of duplicates: ',sd)\n",
    "    if sd< 100:\n",
    "        json_string = json.dumps(_target_pool, indent = 4)  \n",
    "    # print(json_strint)\n",
    "        with open('./target_folder/GENE_SOURCE.json','w') as f:\n",
    "            f.write(json_string)\n",
    "            print('fffffffff\\n'*5)\n",
    "        break\n",
    "print(_index_counter)\n",
    "#     print(df)"
   ]
  },
  {
   "cell_type": "code",
   "execution_count": 19,
   "metadata": {},
   "outputs": [
    {
     "name": "stdout",
     "output_type": "stream",
     "text": [
      "is there any NaN value in df_gene ?\n",
      " color_a_byte_str          False\n",
      "color_b_byte_str          False\n",
      "color_c_byte_str          False\n",
      "strap_byte_str            False\n",
      "crownGaurd_byte_str       False\n",
      "hands_byte_str            False\n",
      "hour_marker_byte_str      False\n",
      "minute_marker_byte_str    False\n",
      "bezel_marker_byte_str     False\n",
      "ref_byte_str              False\n",
      "DNA                       False\n",
      "dtype: bool\n"
     ]
    }
   ],
   "source": [
    "print('is there any NaN value in df_gene ?\\n',df_gene.isna().any())"
   ]
  },
  {
   "cell_type": "markdown",
   "metadata": {},
   "source": [
    "make the exceptinal token list "
   ]
  },
  {
   "cell_type": "code",
   "execution_count": 50,
   "metadata": {},
   "outputs": [],
   "source": [
    "exceptinal_indexes = df_gene[df_gene.duplicated(keep='first')].copy()\n",
    "exceptinal_indexes['ind'] = exceptinal_indexes.index"
   ]
  },
  {
   "cell_type": "markdown",
   "metadata": {},
   "source": [
    "some tokens have duplicate so it creates a list of token to cast to the range of 2400+ index_of_duplicated exceptional_out token list"
   ]
  },
  {
   "cell_type": "code",
   "execution_count": 54,
   "metadata": {},
   "outputs": [],
   "source": [
    "\n",
    "index_to_csv = exceptinal_indexes.copy()\n",
    "index_to_csv.reset_index(inplace=True)\n",
    "cl = index_to_csv.columns\n",
    "# print(cl[:-1])\n",
    "index_to_csv.drop(cl[:-1], axis=1, inplace=True)\n",
    "\n",
    "index_to_csv.to_csv('./target_folder/exceptional_out.csv')\n",
    "ind_dict = {}\n",
    "index_map = {}\n",
    "counter = 0\n",
    "for _i in index_to_csv.index:\n",
    "    tokenNumber = index_to_csv.loc[_i,'ind']\n",
    "    temp_dict = {'tokenNumber':tokenNumber,'castNumber':_i+24_000}\n",
    "    ind_dict.update({counter:temp_dict})\n",
    "    index_map.update({tokenNumber:_i+24_000})\n",
    "    counter +=1\n",
    "    \n",
    "\n",
    "json_str = json.dumps(_target_pool, indent = 4)  \n",
    "with open('./target_folder/exceptionalTokenNumbers.json','w') as f:\n",
    "    f.write(json_str)"
   ]
  },
  {
   "cell_type": "code",
   "execution_count": 55,
   "metadata": {},
   "outputs": [
    {
     "name": "stdout",
     "output_type": "stream",
     "text": [
      "0\n"
     ]
    }
   ],
   "source": [
    "n =1264\n",
    "try:\n",
    "    k =index_map[n]\n",
    "except:\n",
    "    k = 0\n",
    "print(k)"
   ]
  },
  {
   "cell_type": "markdown",
   "metadata": {},
   "source": [
    "## final check to be sure that nothing is duplicated \n",
    "\n",
    "make the dataframe from scratch"
   ]
  },
  {
   "cell_type": "code",
   "execution_count": null,
   "metadata": {},
   "outputs": [
    {
     "name": "stdout",
     "output_type": "stream",
     "text": [
      "run  2  part  0   0\n",
      "run  2  part  1000   1000\n",
      "run  2  part  2000   2000\n",
      "run  2  part  3000   3000\n",
      "run  2  part  4000   4000\n",
      "run  2  part  5000   5000\n",
      "run  2  part  6000   6000\n",
      "run  2  part  7000   7000\n",
      "run  2  part  8000   8000\n",
      "run  2  part  9000   9000\n",
      "run  2  part  10000   10000\n",
      "run  2  part  11000   11000\n",
      "run  2  part  12000   12000\n",
      "run  2  part  13000   13000\n",
      "run  2  part  14000   14000\n",
      "run  2  part  15000   15000\n",
      "run  2  part  16000   16000\n"
     ]
    }
   ],
   "source": [
    "df_gene_final =pd.DataFrame(columns=byte_str_columns)\n",
    "df_val_final = pd.DataFrame(columns=columns)\n",
    "\n",
    "# print(json_strint)\n",
    "_target_pool_final = {}\n",
    "with open('./target_folder/GENE_SOURCE.json','r') as f:\n",
    "    js =f.read()\n",
    "    _target_pool_final =json.loads(js)\n",
    "\n",
    "_time_start = int(time.time())\n",
    "\n",
    "\n",
    "for j in range(24_000):\n",
    "    i = 0\n",
    "    try:\n",
    "        i =index_map[j]\n",
    "    except:\n",
    "        i = j\n",
    "    for _col in columns:\n",
    "        val, byteval = attributeGen(_target_pool_final,_col,i)\n",
    "        df_val_final.loc[i,_col] = val\n",
    "        df_gene_final.loc[i,_col+'_byte_str'] =byteval\n",
    "\n",
    "    if j%1000 == 0:\n",
    "        print(\"run \",_index_counter,' part ',i,' ',j)\n",
    "df_gene_final[\"DNA\"] = df_gene_final.values.sum(axis=1)\n",
    "print(\"onplace :\",df_gene_final.duplicated().sum())\n",
    "df_dup_final = df_gene_final['DNA'].duplicated()\n",
    "print('time of loop',_index_counter,'', int(time.time())-_time_start)\n",
    "sd = df_dup_final.sum()\n",
    "print(\"sanity :\",sd == df_gene_final.duplicated().sum())\n",
    "assert sd == df_gene_final.duplicated().sum()\n",
    "assert sd ==0\n",
    "\n",
    "print('sum of duplicates: ',sd)    \n",
    "print(_index_counter)\n",
    "#     print(df)"
   ]
  },
  {
   "cell_type": "code",
   "execution_count": null,
   "metadata": {},
   "outputs": [],
   "source": [
    "print(df_val_final.duplicated())\n",
    "print(df_val_final.shape)\n",
    "print(df_val_final.head())"
   ]
  },
  {
   "cell_type": "code",
   "execution_count": null,
   "metadata": {},
   "outputs": [],
   "source": [
    "df_gene_final[df_gene_final.duplicated(keep=\"last\")]"
   ]
  },
  {
   "cell_type": "code",
   "execution_count": null,
   "metadata": {},
   "outputs": [],
   "source": [
    "attr_count_df = pd.DataFrame(index =[c['name'] for c in resDict[_col]],columns = columns)\n",
    "for _col in columns:\n",
    "    df_count = pd.crosstab(df_val_final[_col] , columns=[_col])\n",
    "    print(df_count)\n",
    "    #     if col is not ' count':col_list[_col , 'count']\n",
    "    for tt in resDict[_col]:\n",
    "    #     print(tt)\n",
    "        nn = tt['name']\n",
    "        attr_count_df.loc[nn,_col] = int(df_count.loc[nn].values)\n",
    "    #     attr_count_df.loc[col,'no'] = int(df_temp.loc['no'].values)\n",
    "    #     print(col)\n",
    "print(attr_count_df.head())"
   ]
  },
  {
   "cell_type": "code",
   "execution_count": null,
   "metadata": {},
   "outputs": [],
   "source": [
    "print(attr_count_df.shape)"
   ]
  },
  {
   "cell_type": "code",
   "execution_count": null,
   "metadata": {},
   "outputs": [],
   "source": [
    "print(attr_count_df.fillna(0, inplace=True))"
   ]
  },
  {
   "cell_type": "code",
   "execution_count": null,
   "metadata": {},
   "outputs": [],
   "source": [
    "attr_csv = (attr_count_df/240).copy()\n",
    "print(attr_csv)\n",
    "attr_csv.to_csv('./target_folder/attr_csv_out.csv')"
   ]
  },
  {
   "cell_type": "code",
   "execution_count": null,
   "metadata": {},
   "outputs": [],
   "source": []
  },
  {
   "cell_type": "code",
   "execution_count": null,
   "metadata": {},
   "outputs": [],
   "source": []
  },
  {
   "cell_type": "code",
   "execution_count": null,
   "metadata": {},
   "outputs": [],
   "source": [
    "df_gene"
   ]
  },
  {
   "cell_type": "code",
   "execution_count": null,
   "metadata": {},
   "outputs": [],
   "source": [
    "# df_dup = df_gene[df_gene.duplicated(subset=['DNA'])]\n",
    "df_dup = df_gene_final.duplicated()\n",
    "\n",
    "print(df_dup)"
   ]
  },
  {
   "cell_type": "code",
   "execution_count": null,
   "metadata": {},
   "outputs": [],
   "source": [
    "df_dup.sum()"
   ]
  },
  {
   "cell_type": "code",
   "execution_count": null,
   "metadata": {},
   "outputs": [],
   "source": [
    "df_dup.shape"
   ]
  },
  {
   "cell_type": "code",
   "execution_count": null,
   "metadata": {},
   "outputs": [],
   "source": [
    "attr_count_df.index"
   ]
  },
  {
   "cell_type": "code",
   "execution_count": null,
   "metadata": {},
   "outputs": [],
   "source": [
    "attr_count_df.columns"
   ]
  },
  {
   "cell_type": "code",
   "execution_count": null,
   "metadata": {
    "scrolled": false
   },
   "outputs": [],
   "source": [
    "attr_count_df.fillna(0) "
   ]
  },
  {
   "cell_type": "code",
   "execution_count": null,
   "metadata": {},
   "outputs": [],
   "source": [
    "attr_count_df"
   ]
  },
  {
   "cell_type": "code",
   "execution_count": null,
   "metadata": {},
   "outputs": [],
   "source": [
    "63/5"
   ]
  },
  {
   "cell_type": "code",
   "execution_count": null,
   "metadata": {},
   "outputs": [],
   "source": [
    "7+11+14+14+17+1"
   ]
  },
  {
   "cell_type": "code",
   "execution_count": null,
   "metadata": {},
   "outputs": [],
   "source": [
    "4*32/12"
   ]
  },
  {
   "cell_type": "code",
   "execution_count": null,
   "metadata": {},
   "outputs": [],
   "source": [
    "128/10"
   ]
  },
  {
   "cell_type": "code",
   "execution_count": null,
   "metadata": {},
   "outputs": [],
   "source": [
    "8*13 +24"
   ]
  },
  {
   "cell_type": "code",
   "execution_count": null,
   "metadata": {},
   "outputs": [],
   "source": [
    "a = [1,2,3]\n",
    "k =a.pop(randrange(len(a)))\n",
    "print(a)"
   ]
  },
  {
   "cell_type": "code",
   "execution_count": null,
   "metadata": {},
   "outputs": [],
   "source": []
  },
  {
   "cell_type": "code",
   "execution_count": null,
   "metadata": {},
   "outputs": [],
   "source": []
  }
 ],
 "metadata": {
  "kernelspec": {
   "display_name": "Python 3 (ipykernel)",
   "language": "python",
   "name": "python3"
  },
  "language_info": {
   "codemirror_mode": {
    "name": "ipython",
    "version": 3
   },
   "file_extension": ".py",
   "mimetype": "text/x-python",
   "name": "python",
   "nbconvert_exporter": "python",
   "pygments_lexer": "ipython3",
   "version": "3.9.13"
  }
 },
 "nbformat": 4,
 "nbformat_minor": 2
}
