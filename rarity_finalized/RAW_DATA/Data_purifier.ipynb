{
 "cells": [
  {
   "cell_type": "code",
   "execution_count": 1,
   "id": "2ce5efb1",
   "metadata": {},
   "outputs": [],
   "source": [
    "from PIL import Image, ImageDraw, ImageFilter , ImageFont\n",
    "import numpy as np\n",
    "import os\n",
    "import glob\n",
    "import pandas as pd\n",
    "import matplotlib.pyplot as plt\n",
    "punk_cap = 10000\n",
    "import json\n"
   ]
  },
  {
   "cell_type": "code",
   "execution_count": 2,
   "id": "eb6c7df5",
   "metadata": {},
   "outputs": [
    {
     "data": {
      "text/html": [
       "<div>\n",
       "<style scoped>\n",
       "    .dataframe tbody tr th:only-of-type {\n",
       "        vertical-align: middle;\n",
       "    }\n",
       "\n",
       "    .dataframe tbody tr th {\n",
       "        vertical-align: top;\n",
       "    }\n",
       "\n",
       "    .dataframe thead th {\n",
       "        text-align: right;\n",
       "    }\n",
       "</style>\n",
       "<table border=\"1\" class=\"dataframe\">\n",
       "  <thead>\n",
       "    <tr style=\"text-align: right;\">\n",
       "      <th></th>\n",
       "      <th>id</th>\n",
       "      <th>name</th>\n",
       "      <th>code</th>\n",
       "    </tr>\n",
       "  </thead>\n",
       "  <tbody>\n",
       "    <tr>\n",
       "      <th>0</th>\n",
       "      <td>11</td>\n",
       "      <td>Jubliee</td>\n",
       "      <td>&lt;path d=\"M270.16 60C269.66 43 271.16 18 268.16...</td>\n",
       "    </tr>\n",
       "    <tr>\n",
       "      <th>1</th>\n",
       "      <td>9</td>\n",
       "      <td>Oyster</td>\n",
       "      <td>&lt;path d=\"M270.001 66.2109V21.2109L235 0H164.5L...</td>\n",
       "    </tr>\n",
       "    <tr>\n",
       "      <th>2</th>\n",
       "      <td>12</td>\n",
       "      <td>Jubilee Reverso</td>\n",
       "      <td>&lt;path d=\"M270.16 59C269.66 42 271.16 17 268.16...</td>\n",
       "    </tr>\n",
       "    <tr>\n",
       "      <th>3</th>\n",
       "      <td>14</td>\n",
       "      <td>Genuine Rubber</td>\n",
       "      <td>&lt;path d=\"M270.16 341C269.66 358 271.5 385 268....</td>\n",
       "    </tr>\n",
       "    <tr>\n",
       "      <th>4</th>\n",
       "      <td>16</td>\n",
       "      <td>Nato</td>\n",
       "      <td>&lt;path d=\"M270.16 342C269.66 359 271.5 386 268....</td>\n",
       "    </tr>\n",
       "  </tbody>\n",
       "</table>\n",
       "</div>"
      ],
      "text/plain": [
       "   id             name                                               code\n",
       "0  11          Jubliee  <path d=\"M270.16 60C269.66 43 271.16 18 268.16...\n",
       "1   9           Oyster  <path d=\"M270.001 66.2109V21.2109L235 0H164.5L...\n",
       "2  12  Jubilee Reverso  <path d=\"M270.16 59C269.66 42 271.16 17 268.16...\n",
       "3  14   Genuine Rubber  <path d=\"M270.16 341C269.66 358 271.5 385 268....\n",
       "4  16             Nato  <path d=\"M270.16 342C269.66 359 271.5 386 268...."
      ]
     },
     "execution_count": 2,
     "metadata": {},
     "output_type": "execute_result"
    }
   ],
   "source": [
    "df = pd.read_csv(\"./straps.csv\")\n",
    "df.head()"
   ]
  },
  {
   "cell_type": "code",
   "execution_count": 3,
   "id": "cbcfb3f6",
   "metadata": {},
   "outputs": [],
   "source": [
    "# df.id =df.index"
   ]
  },
  {
   "cell_type": "code",
   "execution_count": 4,
   "id": "8f084198",
   "metadata": {},
   "outputs": [
    {
     "data": {
      "text/html": [
       "<div>\n",
       "<style scoped>\n",
       "    .dataframe tbody tr th:only-of-type {\n",
       "        vertical-align: middle;\n",
       "    }\n",
       "\n",
       "    .dataframe tbody tr th {\n",
       "        vertical-align: top;\n",
       "    }\n",
       "\n",
       "    .dataframe thead th {\n",
       "        text-align: right;\n",
       "    }\n",
       "</style>\n",
       "<table border=\"1\" class=\"dataframe\">\n",
       "  <thead>\n",
       "    <tr style=\"text-align: right;\">\n",
       "      <th></th>\n",
       "      <th>name</th>\n",
       "      <th>code</th>\n",
       "    </tr>\n",
       "  </thead>\n",
       "  <tbody>\n",
       "    <tr>\n",
       "      <th>0</th>\n",
       "      <td>Jubliee</td>\n",
       "      <td>&lt;path d=\"M270.16 60C269.66 43 271.16 18 268.16...</td>\n",
       "    </tr>\n",
       "    <tr>\n",
       "      <th>1</th>\n",
       "      <td>Oyster</td>\n",
       "      <td>&lt;path d=\"M270.001 66.2109V21.2109L235 0H164.5L...</td>\n",
       "    </tr>\n",
       "    <tr>\n",
       "      <th>2</th>\n",
       "      <td>Jubilee Reverso</td>\n",
       "      <td>&lt;path d=\"M270.16 59C269.66 42 271.16 17 268.16...</td>\n",
       "    </tr>\n",
       "    <tr>\n",
       "      <th>3</th>\n",
       "      <td>Genuine Rubber</td>\n",
       "      <td>&lt;path d=\"M270.16 341C269.66 358 271.5 385 268....</td>\n",
       "    </tr>\n",
       "    <tr>\n",
       "      <th>4</th>\n",
       "      <td>Nato</td>\n",
       "      <td>&lt;path d=\"M270.16 342C269.66 359 271.5 386 268....</td>\n",
       "    </tr>\n",
       "  </tbody>\n",
       "</table>\n",
       "</div>"
      ],
      "text/plain": [
       "              name                                               code\n",
       "0          Jubliee  <path d=\"M270.16 60C269.66 43 271.16 18 268.16...\n",
       "1           Oyster  <path d=\"M270.001 66.2109V21.2109L235 0H164.5L...\n",
       "2  Jubilee Reverso  <path d=\"M270.16 59C269.66 42 271.16 17 268.16...\n",
       "3   Genuine Rubber  <path d=\"M270.16 341C269.66 358 271.5 385 268....\n",
       "4             Nato  <path d=\"M270.16 342C269.66 359 271.5 386 268...."
      ]
     },
     "execution_count": 4,
     "metadata": {},
     "output_type": "execute_result"
    }
   ],
   "source": [
    "k = df.drop('id', axis=1)\n",
    "k.head()"
   ]
  },
  {
   "cell_type": "code",
   "execution_count": 5,
   "id": "1ffce642",
   "metadata": {},
   "outputs": [],
   "source": [
    "# index\n",
    "k.to_json('./Data_json/strap.json', orient='index')\n",
    "# with open('file_name.txt', 'w') as f:\n",
    "#     f.write(out)"
   ]
  },
  {
   "cell_type": "code",
   "execution_count": 6,
   "id": "9f3798c9",
   "metadata": {},
   "outputs": [
    {
     "data": {
      "text/html": [
       "<div>\n",
       "<style scoped>\n",
       "    .dataframe tbody tr th:only-of-type {\n",
       "        vertical-align: middle;\n",
       "    }\n",
       "\n",
       "    .dataframe tbody tr th {\n",
       "        vertical-align: top;\n",
       "    }\n",
       "\n",
       "    .dataframe thead th {\n",
       "        text-align: right;\n",
       "    }\n",
       "</style>\n",
       "<table border=\"1\" class=\"dataframe\">\n",
       "  <thead>\n",
       "    <tr style=\"text-align: right;\">\n",
       "      <th></th>\n",
       "      <th>id</th>\n",
       "      <th>name</th>\n",
       "      <th>code</th>\n",
       "      <th>type</th>\n",
       "    </tr>\n",
       "  </thead>\n",
       "  <tbody>\n",
       "    <tr>\n",
       "      <th>0</th>\n",
       "      <td>14</td>\n",
       "      <td>Plongeur</td>\n",
       "      <td>&lt;path d=\"M191.021 147.96L200 128.397L208.979 1...</td>\n",
       "      <td>0</td>\n",
       "    </tr>\n",
       "    <tr>\n",
       "      <th>1</th>\n",
       "      <td>15</td>\n",
       "      <td>Plongeur</td>\n",
       "      <td>&lt;rect x=\"197.5\" y=\"188.382\" width=\"5\" height=\"...</td>\n",
       "      <td>1</td>\n",
       "    </tr>\n",
       "    <tr>\n",
       "      <th>2</th>\n",
       "      <td>13</td>\n",
       "      <td>Plongeur</td>\n",
       "      <td>&lt;path d=\"M199.244 73.995a.755.755 0 0 1 .756-....</td>\n",
       "      <td>2</td>\n",
       "    </tr>\n",
       "    <tr>\n",
       "      <th>3</th>\n",
       "      <td>16</td>\n",
       "      <td>Baton</td>\n",
       "      <td>&lt;rect x=\"196\" y=\"96\" width=\"8\" height=\"103\" rx...</td>\n",
       "      <td>1</td>\n",
       "    </tr>\n",
       "    <tr>\n",
       "      <th>4</th>\n",
       "      <td>11</td>\n",
       "      <td>Duaphine</td>\n",
       "      <td>&lt;path d=\"M190.106 184.247L199.9 123.254V195.72...</td>\n",
       "      <td>0</td>\n",
       "    </tr>\n",
       "  </tbody>\n",
       "</table>\n",
       "</div>"
      ],
      "text/plain": [
       "   id      name                                               code  type\n",
       "0  14  Plongeur  <path d=\"M191.021 147.96L200 128.397L208.979 1...     0\n",
       "1  15  Plongeur  <rect x=\"197.5\" y=\"188.382\" width=\"5\" height=\"...     1\n",
       "2  13  Plongeur  <path d=\"M199.244 73.995a.755.755 0 0 1 .756-....     2\n",
       "3  16     Baton  <rect x=\"196\" y=\"96\" width=\"8\" height=\"103\" rx...     1\n",
       "4  11  Duaphine  <path d=\"M190.106 184.247L199.9 123.254V195.72...     0"
      ]
     },
     "execution_count": 6,
     "metadata": {},
     "output_type": "execute_result"
    }
   ],
   "source": [
    "df = pd.read_csv(\"./hands.csv\")\n",
    "df.head()"
   ]
  },
  {
   "cell_type": "code",
   "execution_count": 7,
   "id": "a82c94d4",
   "metadata": {},
   "outputs": [],
   "source": [
    "hands_df = df.sort_values(by=['type'])"
   ]
  },
  {
   "cell_type": "code",
   "execution_count": 8,
   "id": "c12f1d75",
   "metadata": {},
   "outputs": [
    {
     "data": {
      "text/html": [
       "<div>\n",
       "<style scoped>\n",
       "    .dataframe tbody tr th:only-of-type {\n",
       "        vertical-align: middle;\n",
       "    }\n",
       "\n",
       "    .dataframe tbody tr th {\n",
       "        vertical-align: top;\n",
       "    }\n",
       "\n",
       "    .dataframe thead th {\n",
       "        text-align: right;\n",
       "    }\n",
       "</style>\n",
       "<table border=\"1\" class=\"dataframe\">\n",
       "  <thead>\n",
       "    <tr style=\"text-align: right;\">\n",
       "      <th></th>\n",
       "      <th>id</th>\n",
       "      <th>name</th>\n",
       "      <th>code</th>\n",
       "      <th>type</th>\n",
       "    </tr>\n",
       "  </thead>\n",
       "  <tbody>\n",
       "    <tr>\n",
       "      <th>0</th>\n",
       "      <td>14</td>\n",
       "      <td>Plongeur</td>\n",
       "      <td>&lt;path d=\"M191.021 147.96L200 128.397L208.979 1...</td>\n",
       "      <td>0</td>\n",
       "    </tr>\n",
       "    <tr>\n",
       "      <th>1</th>\n",
       "      <td>11</td>\n",
       "      <td>Duaphine</td>\n",
       "      <td>&lt;path d=\"M190.106 184.247L199.9 123.254V195.72...</td>\n",
       "      <td>0</td>\n",
       "    </tr>\n",
       "    <tr>\n",
       "      <th>2</th>\n",
       "      <td>17</td>\n",
       "      <td>Baton</td>\n",
       "      <td>&lt;rect x=\"194\" y=\"125\" width=\"12\" height=\"74\" r...</td>\n",
       "      <td>0</td>\n",
       "    </tr>\n",
       "    <tr>\n",
       "      <th>3</th>\n",
       "      <td>15</td>\n",
       "      <td>Plongeur</td>\n",
       "      <td>&lt;rect x=\"197.5\" y=\"188.382\" width=\"5\" height=\"...</td>\n",
       "      <td>1</td>\n",
       "    </tr>\n",
       "    <tr>\n",
       "      <th>4</th>\n",
       "      <td>16</td>\n",
       "      <td>Baton</td>\n",
       "      <td>&lt;rect x=\"196\" y=\"96\" width=\"8\" height=\"103\" rx...</td>\n",
       "      <td>1</td>\n",
       "    </tr>\n",
       "  </tbody>\n",
       "</table>\n",
       "</div>"
      ],
      "text/plain": [
       "   id      name                                               code  type\n",
       "0  14  Plongeur  <path d=\"M191.021 147.96L200 128.397L208.979 1...     0\n",
       "1  11  Duaphine  <path d=\"M190.106 184.247L199.9 123.254V195.72...     0\n",
       "2  17     Baton  <rect x=\"194\" y=\"125\" width=\"12\" height=\"74\" r...     0\n",
       "3  15  Plongeur  <rect x=\"197.5\" y=\"188.382\" width=\"5\" height=\"...     1\n",
       "4  16     Baton  <rect x=\"196\" y=\"96\" width=\"8\" height=\"103\" rx...     1"
      ]
     },
     "execution_count": 8,
     "metadata": {},
     "output_type": "execute_result"
    }
   ],
   "source": [
    "hands_df.reset_index(inplace=True)\n",
    "hands_df.drop('index', axis=1,inplace=True)\n",
    "hands_df.head()"
   ]
  },
  {
   "cell_type": "markdown",
   "id": "13521a12",
   "metadata": {},
   "source": [
    "## adding group tags to all svg 'code's\n",
    "\n",
    "e.g. \n",
    "`<g id=\"houru\" transform=\"rotate(305,200,200)\">`"
   ]
  },
  {
   "cell_type": "code",
   "execution_count": 9,
   "id": "06a43aa0",
   "metadata": {},
   "outputs": [
    {
     "data": {
      "text/html": [
       "<div>\n",
       "<style scoped>\n",
       "    .dataframe tbody tr th:only-of-type {\n",
       "        vertical-align: middle;\n",
       "    }\n",
       "\n",
       "    .dataframe tbody tr th {\n",
       "        vertical-align: top;\n",
       "    }\n",
       "\n",
       "    .dataframe thead th {\n",
       "        text-align: right;\n",
       "    }\n",
       "</style>\n",
       "<table border=\"1\" class=\"dataframe\">\n",
       "  <thead>\n",
       "    <tr style=\"text-align: right;\">\n",
       "      <th></th>\n",
       "      <th>id</th>\n",
       "      <th>name</th>\n",
       "      <th>code</th>\n",
       "      <th>type</th>\n",
       "    </tr>\n",
       "  </thead>\n",
       "  <tbody>\n",
       "    <tr>\n",
       "      <th>0</th>\n",
       "      <td>14</td>\n",
       "      <td>Plongeur</td>\n",
       "      <td>&lt;g id=\"houru\" transform=\"rotate(305,200,200)\"&gt;...</td>\n",
       "      <td>0</td>\n",
       "    </tr>\n",
       "    <tr>\n",
       "      <th>1</th>\n",
       "      <td>11</td>\n",
       "      <td>Duaphine</td>\n",
       "      <td>&lt;g id=\"houru\" transform=\"rotate(305,200,200)\"&gt;...</td>\n",
       "      <td>0</td>\n",
       "    </tr>\n",
       "    <tr>\n",
       "      <th>2</th>\n",
       "      <td>17</td>\n",
       "      <td>Baton</td>\n",
       "      <td>&lt;g id=\"houru\" transform=\"rotate(305,200,200)\"&gt;...</td>\n",
       "      <td>0</td>\n",
       "    </tr>\n",
       "    <tr>\n",
       "      <th>3</th>\n",
       "      <td>15</td>\n",
       "      <td>Plongeur</td>\n",
       "      <td>&lt;g id=\"minu\" transform=\"rotate(63.2,200,200)\"&gt;...</td>\n",
       "      <td>1</td>\n",
       "    </tr>\n",
       "    <tr>\n",
       "      <th>4</th>\n",
       "      <td>16</td>\n",
       "      <td>Baton</td>\n",
       "      <td>&lt;g id=\"minu\" transform=\"rotate(63.2,200,200)\"&gt;...</td>\n",
       "      <td>1</td>\n",
       "    </tr>\n",
       "  </tbody>\n",
       "</table>\n",
       "</div>"
      ],
      "text/plain": [
       "   id      name                                               code  type\n",
       "0  14  Plongeur  <g id=\"houru\" transform=\"rotate(305,200,200)\">...     0\n",
       "1  11  Duaphine  <g id=\"houru\" transform=\"rotate(305,200,200)\">...     0\n",
       "2  17     Baton  <g id=\"houru\" transform=\"rotate(305,200,200)\">...     0\n",
       "3  15  Plongeur  <g id=\"minu\" transform=\"rotate(63.2,200,200)\">...     1\n",
       "4  16     Baton  <g id=\"minu\" transform=\"rotate(63.2,200,200)\">...     1"
      ]
     },
     "execution_count": 9,
     "metadata": {},
     "output_type": "execute_result"
    }
   ],
   "source": [
    "\n",
    "for index, row in hands_df.iterrows():\n",
    "    if row['type'] == 0:\n",
    "        hands_df.loc[index,'code'] = '''<g id=\"houru\" transform=\"rotate(305,200,200)\">''' +row['code'] +\"</g>\"\n",
    "    if row['type'] == 1:\n",
    "        hands_df.loc[index,'code'] = '''<g id=\"minu\" transform=\"rotate(63.2,200,200)\">''' +row['code'] +\"</g>\"\n",
    "    if row['type'] == 2:\n",
    "        hands_df.loc[index,'code'] = '''<g id=\"secondu\" transform=\"rotate(181,200,200)\">''' +row['code'] +\"</g>\"\n",
    "        \n",
    "hands_df.head()"
   ]
  },
  {
   "cell_type": "code",
   "execution_count": 10,
   "id": "34912ade",
   "metadata": {},
   "outputs": [],
   "source": [
    "new_hands_df = pd.DataFrame( columns=['name','code'],dtype='string')"
   ]
  },
  {
   "cell_type": "code",
   "execution_count": 11,
   "id": "88d86d3d",
   "metadata": {},
   "outputs": [
    {
     "data": {
      "text/html": [
       "<div>\n",
       "<style scoped>\n",
       "    .dataframe tbody tr th:only-of-type {\n",
       "        vertical-align: middle;\n",
       "    }\n",
       "\n",
       "    .dataframe tbody tr th {\n",
       "        vertical-align: top;\n",
       "    }\n",
       "\n",
       "    .dataframe thead th {\n",
       "        text-align: right;\n",
       "    }\n",
       "</style>\n",
       "<table border=\"1\" class=\"dataframe\">\n",
       "  <thead>\n",
       "    <tr style=\"text-align: right;\">\n",
       "      <th></th>\n",
       "      <th>name</th>\n",
       "      <th>code</th>\n",
       "    </tr>\n",
       "  </thead>\n",
       "  <tbody>\n",
       "  </tbody>\n",
       "</table>\n",
       "</div>"
      ],
      "text/plain": [
       "Empty DataFrame\n",
       "Columns: [name, code]\n",
       "Index: []"
      ]
     },
     "execution_count": 11,
     "metadata": {},
     "output_type": "execute_result"
    }
   ],
   "source": [
    "new_hands_df.head()"
   ]
  },
  {
   "cell_type": "code",
   "execution_count": 12,
   "id": "ab191086",
   "metadata": {},
   "outputs": [
    {
     "data": {
      "text/html": [
       "<div>\n",
       "<style scoped>\n",
       "    .dataframe tbody tr th:only-of-type {\n",
       "        vertical-align: middle;\n",
       "    }\n",
       "\n",
       "    .dataframe tbody tr th {\n",
       "        vertical-align: top;\n",
       "    }\n",
       "\n",
       "    .dataframe thead th {\n",
       "        text-align: right;\n",
       "    }\n",
       "</style>\n",
       "<table border=\"1\" class=\"dataframe\">\n",
       "  <thead>\n",
       "    <tr style=\"text-align: right;\">\n",
       "      <th></th>\n",
       "      <th>name</th>\n",
       "      <th>code</th>\n",
       "    </tr>\n",
       "  </thead>\n",
       "  <tbody>\n",
       "    <tr>\n",
       "      <th>2</th>\n",
       "      <td>Plongeur</td>\n",
       "      <td>&lt;g id=\"houru\" transform=\"rotate(305,200,200)\"&gt;...</td>\n",
       "    </tr>\n",
       "    <tr>\n",
       "      <th>1</th>\n",
       "      <td>Duaphine</td>\n",
       "      <td>&lt;g id=\"houru\" transform=\"rotate(305,200,200)\"&gt;...</td>\n",
       "    </tr>\n",
       "    <tr>\n",
       "      <th>0</th>\n",
       "      <td>Baton</td>\n",
       "      <td>&lt;g id=\"houru\" transform=\"rotate(305,200,200)\"&gt;...</td>\n",
       "    </tr>\n",
       "  </tbody>\n",
       "</table>\n",
       "</div>"
      ],
      "text/plain": [
       "       name                                               code\n",
       "2  Plongeur  <g id=\"houru\" transform=\"rotate(305,200,200)\">...\n",
       "1  Duaphine  <g id=\"houru\" transform=\"rotate(305,200,200)\">...\n",
       "0     Baton  <g id=\"houru\" transform=\"rotate(305,200,200)\">..."
      ]
     },
     "execution_count": 12,
     "metadata": {},
     "output_type": "execute_result"
    }
   ],
   "source": [
    "for index, row in hands_df.iterrows():\n",
    "    if hands_df.loc[index,'name'] == 'Baton':\n",
    "        new_hands_df.loc[0,'name'] = 'Baton'\n",
    "        if type(new_hands_df.loc[0,'code']) == pd._libs.missing.NAType:\n",
    "            new_hands_df.loc[0,'code'] = ''\n",
    "        new_hands_df.loc[0,'code'] = new_hands_df.loc[0,'code']+row['code']\n",
    "    if hands_df.loc[index,'name'] == 'Duaphine':\n",
    "        new_hands_df.loc[1,'name'] = 'Duaphine'\n",
    "        if type(new_hands_df.loc[1,'code']) == pd._libs.missing.NAType:\n",
    "            new_hands_df.loc[1,'code'] = ''\n",
    "        new_hands_df.loc[1,'code'] = new_hands_df.loc[1,'code']+row['code']\n",
    "    if hands_df.loc[index,'name'] == 'Plongeur':\n",
    "        new_hands_df.loc[2,'name'] = 'Plongeur'\n",
    "        if type(new_hands_df.loc[2,'code']) == pd._libs.missing.NAType:\n",
    "            new_hands_df.loc[2,'code'] = ''\n",
    "        new_hands_df.loc[2,'code'] = new_hands_df.loc[2,'code']+row['code']\n",
    "new_hands_df.head()"
   ]
  },
  {
   "cell_type": "code",
   "execution_count": 13,
   "id": "ef1e547d",
   "metadata": {},
   "outputs": [
    {
     "data": {
      "text/plain": [
       "str"
      ]
     },
     "execution_count": 13,
     "metadata": {},
     "output_type": "execute_result"
    }
   ],
   "source": [
    "type(new_hands_df.loc[0,'code'])"
   ]
  },
  {
   "cell_type": "code",
   "execution_count": 14,
   "id": "89405bc6",
   "metadata": {},
   "outputs": [],
   "source": [
    "new_hands_df.reset_index(inplace=True)"
   ]
  },
  {
   "cell_type": "code",
   "execution_count": 15,
   "id": "e50b8dc6",
   "metadata": {},
   "outputs": [
    {
     "data": {
      "text/html": [
       "<div>\n",
       "<style scoped>\n",
       "    .dataframe tbody tr th:only-of-type {\n",
       "        vertical-align: middle;\n",
       "    }\n",
       "\n",
       "    .dataframe tbody tr th {\n",
       "        vertical-align: top;\n",
       "    }\n",
       "\n",
       "    .dataframe thead th {\n",
       "        text-align: right;\n",
       "    }\n",
       "</style>\n",
       "<table border=\"1\" class=\"dataframe\">\n",
       "  <thead>\n",
       "    <tr style=\"text-align: right;\">\n",
       "      <th></th>\n",
       "      <th>name</th>\n",
       "      <th>code</th>\n",
       "    </tr>\n",
       "  </thead>\n",
       "  <tbody>\n",
       "    <tr>\n",
       "      <th>0</th>\n",
       "      <td>Plongeur</td>\n",
       "      <td>&lt;g id=\"houru\" transform=\"rotate(305,200,200)\"&gt;...</td>\n",
       "    </tr>\n",
       "    <tr>\n",
       "      <th>1</th>\n",
       "      <td>Duaphine</td>\n",
       "      <td>&lt;g id=\"houru\" transform=\"rotate(305,200,200)\"&gt;...</td>\n",
       "    </tr>\n",
       "    <tr>\n",
       "      <th>2</th>\n",
       "      <td>Baton</td>\n",
       "      <td>&lt;g id=\"houru\" transform=\"rotate(305,200,200)\"&gt;...</td>\n",
       "    </tr>\n",
       "  </tbody>\n",
       "</table>\n",
       "</div>"
      ],
      "text/plain": [
       "       name                                               code\n",
       "0  Plongeur  <g id=\"houru\" transform=\"rotate(305,200,200)\">...\n",
       "1  Duaphine  <g id=\"houru\" transform=\"rotate(305,200,200)\">...\n",
       "2     Baton  <g id=\"houru\" transform=\"rotate(305,200,200)\">..."
      ]
     },
     "execution_count": 15,
     "metadata": {},
     "output_type": "execute_result"
    }
   ],
   "source": [
    "new_hands_df.drop(['index'], axis=1,inplace=True)\n",
    "new_hands_df.head()"
   ]
  },
  {
   "cell_type": "code",
   "execution_count": 16,
   "id": "18df68f4",
   "metadata": {},
   "outputs": [],
   "source": [
    "new_hands_df.to_json('./Data_json/hands.json', orient='index')"
   ]
  },
  {
   "cell_type": "code",
   "execution_count": 17,
   "id": "23b5af8f",
   "metadata": {},
   "outputs": [
    {
     "data": {
      "text/html": [
       "<div>\n",
       "<style scoped>\n",
       "    .dataframe tbody tr th:only-of-type {\n",
       "        vertical-align: middle;\n",
       "    }\n",
       "\n",
       "    .dataframe tbody tr th {\n",
       "        vertical-align: top;\n",
       "    }\n",
       "\n",
       "    .dataframe thead th {\n",
       "        text-align: right;\n",
       "    }\n",
       "</style>\n",
       "<table border=\"1\" class=\"dataframe\">\n",
       "  <thead>\n",
       "    <tr style=\"text-align: right;\">\n",
       "      <th></th>\n",
       "      <th>id</th>\n",
       "      <th>name</th>\n",
       "      <th>code</th>\n",
       "      <th>url</th>\n",
       "    </tr>\n",
       "  </thead>\n",
       "  <tbody>\n",
       "    <tr>\n",
       "      <th>0</th>\n",
       "      <td>44</td>\n",
       "      <td>Royal Azure</td>\n",
       "      <td>&lt;linearGradient id=\"b\" gradientUnits=\"objectBo...</td>\n",
       "      <td>b</td>\n",
       "    </tr>\n",
       "    <tr>\n",
       "      <th>1</th>\n",
       "      <td>42</td>\n",
       "      <td>Base Pink</td>\n",
       "      <td>&lt;linearGradient id=\"b\" gradientUnits=\"objectBo...</td>\n",
       "      <td>b</td>\n",
       "    </tr>\n",
       "    <tr>\n",
       "      <th>2</th>\n",
       "      <td>43</td>\n",
       "      <td>Tomato</td>\n",
       "      <td>&lt;linearGradient id=\"b\" gradientUnits=\"objectBo...</td>\n",
       "      <td>b</td>\n",
       "    </tr>\n",
       "    <tr>\n",
       "      <th>3</th>\n",
       "      <td>27</td>\n",
       "      <td>pepenite</td>\n",
       "      <td>&lt;linearGradient id=\"a\" gradientTransform=\"rota...</td>\n",
       "      <td>a</td>\n",
       "    </tr>\n",
       "    <tr>\n",
       "      <th>4</th>\n",
       "      <td>32</td>\n",
       "      <td>Gold</td>\n",
       "      <td>&lt;linearGradient id=\"c\" gradientTransform=\"rota...</td>\n",
       "      <td>c</td>\n",
       "    </tr>\n",
       "  </tbody>\n",
       "</table>\n",
       "</div>"
      ],
      "text/plain": [
       "   id         name                                               code url\n",
       "0  44  Royal Azure  <linearGradient id=\"b\" gradientUnits=\"objectBo...   b\n",
       "1  42    Base Pink  <linearGradient id=\"b\" gradientUnits=\"objectBo...   b\n",
       "2  43       Tomato  <linearGradient id=\"b\" gradientUnits=\"objectBo...   b\n",
       "3  27     pepenite  <linearGradient id=\"a\" gradientTransform=\"rota...   a\n",
       "4  32         Gold  <linearGradient id=\"c\" gradientTransform=\"rota...   c"
      ]
     },
     "execution_count": 17,
     "metadata": {},
     "output_type": "execute_result"
    }
   ],
   "source": [
    "gradients_df = pd.read_csv(\"./gradients.csv\")\n",
    "gradients_df.head()"
   ]
  },
  {
   "cell_type": "code",
   "execution_count": 18,
   "id": "5b4fa355",
   "metadata": {},
   "outputs": [
    {
     "name": "stdout",
     "output_type": "stream",
     "text": [
      "color_a \n",
      " Empty DataFrame\n",
      "Columns: [name, code]\n",
      "Index: []\n",
      "clor_b \n",
      " Empty DataFrame\n",
      "Columns: [name, code]\n",
      "Index: []\n",
      "color_c \n",
      " Empty DataFrame\n",
      "Columns: [name, code]\n",
      "Index: []\n"
     ]
    }
   ],
   "source": [
    "color_a_df = pd.DataFrame( columns=['name','code'],dtype='string')\n",
    "color_b_df = pd.DataFrame( columns=['name','code'],dtype='string')\n",
    "color_c_df = pd.DataFrame( columns=['name','code'],dtype='string')\n",
    "print('color_a \\n',color_a_df.head())\n",
    "print('clor_b \\n',color_b_df.head())\n",
    "print('color_c \\n',color_c_df.head())"
   ]
  },
  {
   "cell_type": "code",
   "execution_count": 19,
   "id": "bb22ae15",
   "metadata": {},
   "outputs": [
    {
     "name": "stdout",
     "output_type": "stream",
     "text": [
      "color_a \n",
      "                   name                                               code\n",
      "0             pepenite  <linearGradient id=\"a\" gradientTransform=\"rota...\n",
      "1           white gold  <linearGradient id=\"a\" gradientTransform=\"rota...\n",
      "2  Immutable Rose Gold  <linearGradient id=\"a\" gradientTransform=\"rota...\n",
      "3                Steel  <linearGradient id=\"a\" gradientTransform=\"rota...\n",
      "4                 Gold  <linearGradient id=\"a\" gradientTransform=\"rota...\n",
      "clor_b \n",
      "           name                                               code\n",
      "0  Royal Azure  <linearGradient id=\"b\" gradientUnits=\"objectBo...\n",
      "1    Base Pink  <linearGradient id=\"b\" gradientUnits=\"objectBo...\n",
      "2       Tomato  <linearGradient id=\"b\" gradientUnits=\"objectBo...\n",
      "3     Lavender  <linearGradient id=\"b\" gradientUnits=\"objectBo...\n",
      "4    Sandstorm  <linearGradient id=\"b\" gradientUnits=\"objectBo...\n",
      "color_c \n",
      "          name                                               code\n",
      "0        Gold  <linearGradient id=\"c\" gradientTransform=\"rota...\n",
      "1        Hulk  <linearGradient id=\"c\" gradientTransform=\"rota...\n",
      "2   Miladyium  <linearGradient id=\"c\" gradientTransform=\"rota...\n",
      "3     Carbide  <linearGradient id=\"c\" gradientTransform=\"rota...\n",
      "4  white Gold  <linearGradient id=\"c\" gradientTransform=\"rota...\n"
     ]
    }
   ],
   "source": [
    "a_counter = 0\n",
    "b_counter = 0\n",
    "c_counter = 0\n",
    "for index, row in gradients_df.iterrows():\n",
    "    if row['url'] == 'a':\n",
    "        color_a_df.loc[a_counter,'name'] = row['name']\n",
    "        color_a_df.loc[a_counter,'code'] = row['code']\n",
    "        a_counter +=1\n",
    "    if row['url'] == 'b':\n",
    "        color_b_df.loc[b_counter,'name'] = row['name']\n",
    "        color_b_df.loc[b_counter,'code'] = row['code']\n",
    "        b_counter += 1\n",
    "    if row['url'] == 'c':\n",
    "        color_c_df.loc[c_counter,'name'] = row['name']\n",
    "        color_c_df.loc[c_counter,'code'] = row['code']\n",
    "        c_counter += 1\n",
    "print('color_a \\n',color_a_df.head())\n",
    "print('clor_b \\n',color_b_df.head())\n",
    "print('color_c \\n',color_c_df.head())\n"
   ]
  },
  {
   "cell_type": "code",
   "execution_count": 20,
   "id": "e767ac10",
   "metadata": {},
   "outputs": [],
   "source": [
    "color_a_df.to_json('./Data_json/color_a.json', orient='index')\n",
    "color_b_df.to_json('./Data_json/color_b.json', orient='index')\n",
    "color_c_df.to_json('./Data_json/color_c.json', orient='index')"
   ]
  },
  {
   "cell_type": "code",
   "execution_count": 21,
   "id": "b64f9181",
   "metadata": {},
   "outputs": [
    {
     "data": {
      "text/html": [
       "<div>\n",
       "<style scoped>\n",
       "    .dataframe tbody tr th:only-of-type {\n",
       "        vertical-align: middle;\n",
       "    }\n",
       "\n",
       "    .dataframe tbody tr th {\n",
       "        vertical-align: top;\n",
       "    }\n",
       "\n",
       "    .dataframe thead th {\n",
       "        text-align: right;\n",
       "    }\n",
       "</style>\n",
       "<table border=\"1\" class=\"dataframe\">\n",
       "  <thead>\n",
       "    <tr style=\"text-align: right;\">\n",
       "      <th></th>\n",
       "      <th>id</th>\n",
       "      <th>name</th>\n",
       "      <th>code</th>\n",
       "      <th>type</th>\n",
       "    </tr>\n",
       "  </thead>\n",
       "  <tbody>\n",
       "    <tr>\n",
       "      <th>0</th>\n",
       "      <td>4</td>\n",
       "      <td>Roman</td>\n",
       "      <td>&lt;g font-family=\"Times New Roman\" font-size=\"20...</td>\n",
       "      <td>0</td>\n",
       "    </tr>\n",
       "    <tr>\n",
       "      <th>1</th>\n",
       "      <td>3</td>\n",
       "      <td>Numerals</td>\n",
       "      <td>&lt;g font-family=\"Arial\" font-size=\"20\" dominant...</td>\n",
       "      <td>0</td>\n",
       "    </tr>\n",
       "    <tr>\n",
       "      <th>2</th>\n",
       "      <td>10</td>\n",
       "      <td>Railroad track with sub-seconds</td>\n",
       "      <td>&lt;circle cx=\"200\" cy=\"200\" r=\"126\" stroke=\"url(...</td>\n",
       "      <td>1</td>\n",
       "    </tr>\n",
       "    <tr>\n",
       "      <th>3</th>\n",
       "      <td>5</td>\n",
       "      <td>Sticks-1</td>\n",
       "      <td>&lt;circle cx=\"200\" cy=\"200\" r=\"123.5\" stroke-wid...</td>\n",
       "      <td>1</td>\n",
       "    </tr>\n",
       "    <tr>\n",
       "      <th>4</th>\n",
       "      <td>1</td>\n",
       "      <td>GM Time</td>\n",
       "      <td>&lt;g font-family=\"Tahoma\" font-size=\"16\" dominan...</td>\n",
       "      <td>0</td>\n",
       "    </tr>\n",
       "  </tbody>\n",
       "</table>\n",
       "</div>"
      ],
      "text/plain": [
       "   id                             name  \\\n",
       "0   4                            Roman   \n",
       "1   3                         Numerals   \n",
       "2  10  Railroad track with sub-seconds   \n",
       "3   5                         Sticks-1   \n",
       "4   1                          GM Time   \n",
       "\n",
       "                                                code  type  \n",
       "0  <g font-family=\"Times New Roman\" font-size=\"20...     0  \n",
       "1  <g font-family=\"Arial\" font-size=\"20\" dominant...     0  \n",
       "2  <circle cx=\"200\" cy=\"200\" r=\"126\" stroke=\"url(...     1  \n",
       "3  <circle cx=\"200\" cy=\"200\" r=\"123.5\" stroke-wid...     1  \n",
       "4  <g font-family=\"Tahoma\" font-size=\"16\" dominan...     0  "
      ]
     },
     "execution_count": 21,
     "metadata": {},
     "output_type": "execute_result"
    }
   ],
   "source": [
    "\n",
    "indicators_df = pd.read_csv(\"./indicators.csv\")\n",
    "indicators_df.head()"
   ]
  },
  {
   "cell_type": "code",
   "execution_count": 22,
   "id": "c46047c1",
   "metadata": {},
   "outputs": [
    {
     "data": {
      "text/plain": [
       "Index(['id', 'name', 'code', 'type'], dtype='object')"
      ]
     },
     "execution_count": 22,
     "metadata": {},
     "output_type": "execute_result"
    }
   ],
   "source": [
    "indicators_df.columns"
   ]
  },
  {
   "cell_type": "code",
   "execution_count": 23,
   "id": "71f0467c",
   "metadata": {},
   "outputs": [
    {
     "name": "stdout",
     "output_type": "stream",
     "text": [
      "hour_marker_df \n",
      " Empty DataFrame\n",
      "Columns: [name, code]\n",
      "Index: []\n",
      "minute_marker_df \n",
      " Empty DataFrame\n",
      "Columns: [name, code]\n",
      "Index: []\n",
      "bezel_marker_df \n",
      " Empty DataFrame\n",
      "Columns: [name, code]\n",
      "Index: []\n"
     ]
    }
   ],
   "source": [
    "hour_marker_df = pd.DataFrame( columns=['name','code'],dtype='string')\n",
    "minute_marker_df = pd.DataFrame( columns=['name','code'],dtype='string')\n",
    "bezel_marker_df = pd.DataFrame( columns=['name','code'],dtype='string')\n",
    "print('hour_marker_df \\n',hour_marker_df.head())\n",
    "print('minute_marker_df \\n',minute_marker_df.head())\n",
    "print('bezel_marker_df \\n',bezel_marker_df.head())"
   ]
  },
  {
   "cell_type": "code",
   "execution_count": 24,
   "id": "93365ce2",
   "metadata": {},
   "outputs": [
    {
     "name": "stdout",
     "output_type": "stream",
     "text": [
      "hour_marker_df \n",
      "               name                                               code\n",
      "0            Roman  <g font-family=\"Times New Roman\" font-size=\"20...\n",
      "1         Numerals  <g font-family=\"Arial\" font-size=\"20\" dominant...\n",
      "2          GM Time  <g font-family=\"Tahoma\" font-size=\"16\" dominan...\n",
      "3           Arabic  <g font-family=\"Arial\" font-size=\"20\" dominant...\n",
      "4  Double Baguette  <path d=\"M198 82.5h-4a1 1 0 0 0-1 1v13a1 1 0 0...\n",
      "minute_marker_df \n",
      "                               name  \\\n",
      "0  Railroad track with sub-seconds   \n",
      "1                         Sticks-1   \n",
      "2                      Sub-seconds   \n",
      "3                 Railroad track-1   \n",
      "4                         Sticks-2   \n",
      "\n",
      "                                                code  \n",
      "0  <circle cx=\"200\" cy=\"200\" r=\"126\" stroke=\"url(...  \n",
      "1  <circle cx=\"200\" cy=\"200\" r=\"123.5\" stroke-wid...  \n",
      "2  <circle cx=\"200\" cy=\"200\" r=\"123.5\" stroke-wid...  \n",
      "3  <circle cx=\"200\" cy=\"200\" r=\"126\" stroke=\"url(...  \n",
      "4  <circle cx=\"200\" cy=\"200\" r=\"123.5\" stroke-wid...  \n",
      "bezel_marker_df \n",
      "        name                                               code\n",
      "0    Fluted  <circle cx=\"200\" cy=\"200\" r=\"144\" stroke-width...\n",
      "1      Dive  <circle cx=\"200\" cy=\"200\" r=\"135\" stroke-width...\n",
      "2  count-up  <path stroke=\"url(#c1)\" stroke-width=\"10\" stro...\n"
     ]
    }
   ],
   "source": [
    "a_counter = 0\n",
    "b_counter = 0\n",
    "c_counter = 0\n",
    "for index, row in indicators_df.iterrows():\n",
    "    if row['type'] == 0:\n",
    "        hour_marker_df.loc[a_counter,'name'] = row['name']\n",
    "        hour_marker_df.loc[a_counter,'code'] = row['code']\n",
    "        a_counter +=1\n",
    "    if row['type'] == 1:\n",
    "        minute_marker_df.loc[b_counter,'name'] = row['name']\n",
    "        minute_marker_df.loc[b_counter,'code'] = row['code']\n",
    "        b_counter += 1\n",
    "    if row['type'] == 2:\n",
    "        bezel_marker_df.loc[c_counter,'name'] = row['name']\n",
    "        bezel_marker_df.loc[c_counter,'code'] = row['code']\n",
    "        c_counter += 1\n",
    "print('hour_marker_df \\n',hour_marker_df.head())\n",
    "print('minute_marker_df \\n',minute_marker_df.head())\n",
    "print('bezel_marker_df \\n',bezel_marker_df.head())"
   ]
  },
  {
   "cell_type": "code",
   "execution_count": 25,
   "id": "78d0ae41",
   "metadata": {},
   "outputs": [
    {
     "data": {
      "text/html": [
       "<div>\n",
       "<style scoped>\n",
       "    .dataframe tbody tr th:only-of-type {\n",
       "        vertical-align: middle;\n",
       "    }\n",
       "\n",
       "    .dataframe tbody tr th {\n",
       "        vertical-align: top;\n",
       "    }\n",
       "\n",
       "    .dataframe thead th {\n",
       "        text-align: right;\n",
       "    }\n",
       "</style>\n",
       "<table border=\"1\" class=\"dataframe\">\n",
       "  <thead>\n",
       "    <tr style=\"text-align: right;\">\n",
       "      <th></th>\n",
       "      <th>name</th>\n",
       "      <th>code</th>\n",
       "    </tr>\n",
       "  </thead>\n",
       "  <tbody>\n",
       "    <tr>\n",
       "      <th>0</th>\n",
       "      <td>Fluted</td>\n",
       "      <td>&lt;circle cx=\"200\" cy=\"200\" r=\"144\" stroke-width...</td>\n",
       "    </tr>\n",
       "    <tr>\n",
       "      <th>1</th>\n",
       "      <td>Dive</td>\n",
       "      <td>&lt;circle cx=\"200\" cy=\"200\" r=\"135\" stroke-width...</td>\n",
       "    </tr>\n",
       "    <tr>\n",
       "      <th>2</th>\n",
       "      <td>count-up</td>\n",
       "      <td>&lt;path stroke=\"url(#c1)\" stroke-width=\"10\" stro...</td>\n",
       "    </tr>\n",
       "  </tbody>\n",
       "</table>\n",
       "</div>"
      ],
      "text/plain": [
       "       name                                               code\n",
       "0    Fluted  <circle cx=\"200\" cy=\"200\" r=\"144\" stroke-width...\n",
       "1      Dive  <circle cx=\"200\" cy=\"200\" r=\"135\" stroke-width...\n",
       "2  count-up  <path stroke=\"url(#c1)\" stroke-width=\"10\" stro..."
      ]
     },
     "execution_count": 25,
     "metadata": {},
     "output_type": "execute_result"
    }
   ],
   "source": [
    "bezel_marker_df.head()"
   ]
  },
  {
   "cell_type": "markdown",
   "id": "977a926d",
   "metadata": {},
   "source": [
    "## adding simple to bezel marker"
   ]
  },
  {
   "cell_type": "code",
   "execution_count": 26,
   "id": "0b26914f",
   "metadata": {},
   "outputs": [],
   "source": [
    "#adding simple to bezel marker\n",
    "bezel_marker_df.loc[3,'name'] = \"simple\"\n",
    "bezel_marker_df.loc[3,'code'] = \"\""
   ]
  },
  {
   "cell_type": "code",
   "execution_count": 27,
   "id": "64f6ba7e",
   "metadata": {},
   "outputs": [
    {
     "data": {
      "text/html": [
       "<div>\n",
       "<style scoped>\n",
       "    .dataframe tbody tr th:only-of-type {\n",
       "        vertical-align: middle;\n",
       "    }\n",
       "\n",
       "    .dataframe tbody tr th {\n",
       "        vertical-align: top;\n",
       "    }\n",
       "\n",
       "    .dataframe thead th {\n",
       "        text-align: right;\n",
       "    }\n",
       "</style>\n",
       "<table border=\"1\" class=\"dataframe\">\n",
       "  <thead>\n",
       "    <tr style=\"text-align: right;\">\n",
       "      <th></th>\n",
       "      <th>name</th>\n",
       "      <th>code</th>\n",
       "    </tr>\n",
       "  </thead>\n",
       "  <tbody>\n",
       "    <tr>\n",
       "      <th>0</th>\n",
       "      <td>Fluted</td>\n",
       "      <td>&lt;circle cx=\"200\" cy=\"200\" r=\"144\" stroke-width...</td>\n",
       "    </tr>\n",
       "    <tr>\n",
       "      <th>1</th>\n",
       "      <td>Dive</td>\n",
       "      <td>&lt;circle cx=\"200\" cy=\"200\" r=\"135\" stroke-width...</td>\n",
       "    </tr>\n",
       "    <tr>\n",
       "      <th>2</th>\n",
       "      <td>count-up</td>\n",
       "      <td>&lt;path stroke=\"url(#c1)\" stroke-width=\"10\" stro...</td>\n",
       "    </tr>\n",
       "    <tr>\n",
       "      <th>3</th>\n",
       "      <td>simple</td>\n",
       "      <td></td>\n",
       "    </tr>\n",
       "  </tbody>\n",
       "</table>\n",
       "</div>"
      ],
      "text/plain": [
       "       name                                               code\n",
       "0    Fluted  <circle cx=\"200\" cy=\"200\" r=\"144\" stroke-width...\n",
       "1      Dive  <circle cx=\"200\" cy=\"200\" r=\"135\" stroke-width...\n",
       "2  count-up  <path stroke=\"url(#c1)\" stroke-width=\"10\" stro...\n",
       "3    simple                                                   "
      ]
     },
     "execution_count": 27,
     "metadata": {},
     "output_type": "execute_result"
    }
   ],
   "source": [
    "bezel_marker_df.head()"
   ]
  },
  {
   "cell_type": "markdown",
   "id": "1405c25c",
   "metadata": {},
   "source": [
    "## all indicators to seperate json"
   ]
  },
  {
   "cell_type": "code",
   "execution_count": 28,
   "id": "2a193420",
   "metadata": {},
   "outputs": [],
   "source": [
    "hour_marker_df.to_json('./Data_json/hour_marker.json', orient='index')\n",
    "minute_marker_df.to_json('./Data_json/minute_marker.json', orient='index')\n",
    "bezel_marker_df.to_json('./Data_json/bezel_marker.json', orient='index')"
   ]
  },
  {
   "cell_type": "code",
   "execution_count": 29,
   "id": "c721e7db",
   "metadata": {},
   "outputs": [
    {
     "name": "stdout",
     "output_type": "stream",
     "text": [
      "['bezel_marker.json', 'color_a.json', 'color_b.json', 'color_c.json', 'hands.json', 'hour_marker.json', 'minute_marker.json', 'strap.json']\n"
     ]
    }
   ],
   "source": [
    "path = './Data_json/'\n",
    "dir_list = os.listdir(path)\n",
    "print(dir_list)"
   ]
  },
  {
   "cell_type": "code",
   "execution_count": 30,
   "id": "93a06e67",
   "metadata": {},
   "outputs": [],
   "source": [
    "# nameOfFile[:-5]"
   ]
  },
  {
   "cell_type": "code",
   "execution_count": 31,
   "id": "283193b7",
   "metadata": {},
   "outputs": [
    {
     "name": "stdout",
     "output_type": "stream",
     "text": [
      "{'bezel_marker': {'0': {'name': 'Fluted', 'code': '<circle cx=\"200\" cy=\"200\" r=\"144\" stroke-width=\"25\" stroke=\"#fff\" opacity=\".15\" stroke-dasharray=\"1 14.07\" stroke-dashoffset=\"0.5\" stroke-linecap=\"round\"/> <circle cx=\"200\" cy=\"200\" r=\"144\" stroke-width=\"28\" stroke=\"#fff\" opacity=\".25\" stroke-dasharray=\"7.53 7.53\" stroke-dashoffset=\"7.53\" /> <circle cx=\"200\" cy=\"200\" r=\"144\" stroke-width=\"28\" stroke=\"#000\" opacity=\".25\" stroke-dasharray=\"7.53 7.53\" />'}, '1': {'name': 'Dive', 'code': '<circle cx=\"200\" cy=\"200\" r=\"135\" stroke-width=\"2\" stroke=\"url(#c1)\" stroke-dasharray=\"2 12.137\" stroke-dashoffset=\"1\"/><circle cx=\"200\" cy=\"200\" r=\"144\" stroke-width=\"20\" stroke=\"url(#c1)\" stroke-dasharray=\"5 145.796\" stroke-dashoffset=\"2.5\"/><g class=\"ind\" font-family=\"Trebuchet MS\" font-size=\"20\" dominant-baseline=\"central\" text-anchor=\"middle\" fill=\"url(#b)\" stroke=\"url(#c1)\" stroke-width=\".5\"><text x=\"200\" y=\"55\" transform=\"rotate(60 200 200)\">10</text><text x=\"200\" y=\"55\" transform=\"rotate(120 200 200)\">20</text><text x=\"200\" y=\"55\" transform=\"rotate(180 200 200)\">30</text><text x=\"200\" y=\"55\" transform=\"rotate(240 200 200)\">40</text><text x=\"200\" y=\"55\" transform=\"rotate(300 200 200)\">50</text></g><path d=\"M200.366 65.5a1 1 0 0 1-1.732 0l-8.227-14.25a1 1 0 0 1 .866-1.5h16.454a1 1 0 0 1 .866 1.5l-8.227 14.25Z\" fill=\"url(#b)\" stroke=\"url(#c1)\"/>'}, '2': {'name': 'count-up', 'code': '<path stroke=\"url(#c1)\" stroke-width=\"10\" stroke-dasharray=\"2 12.556\" stroke-dashoffset=\"2\" d=\"M200 61a139 139 0 0 1 112 57\"/><path stroke=\"url(#c1)\" stroke-width=\"10\" stroke-dasharray=\"2 12.556\" d=\"M327 143a139 139 0 0 1 12 57\"/><circle cx=\"200\" cy=\"200\" r=\"144\" stroke-width=\"20\" stroke=\"url(#c1)\" stroke-dasharray=\"5 145.796\" stroke-dashoffset=\"2.5\"/><g class=\"ind\" font-family=\"Arial\" font-size=\"20\" dominant-baseline=\"central\" text-anchor=\"middle\" fill=\"url(#b)\" stroke=\"url(#c1)\" stroke-width=\".5\"><text x=\"325.574\" y=\"127.5\" alignment-baseline=\"central\">10</text><text x=\"325.574\" y=\"272.5\" alignment-baseline=\"central\">20</text><text x=\"200\" y=\"345\" alignment-baseline=\"central\">30</text><text x=\"74.426\" y=\"272.5\" alignment-baseline=\"central\">40</text><text x=\"74.426\" y=\"127.5\" alignment-baseline=\"central\">50</text></g><path d=\"M200.366 65.5a1 1 0 0 1-1.732 0l-8.227-14.25a1 1 0 0 1 .866-1.5h16.454a1 1 0 0 1 .866 1.5l-8.227 14.25Z\" fill=\"url(#b)\" stroke=\"url(#c1)\"/>'}, '3': {'name': 'simple', 'code': ''}}, 'color_a': {'0': {'name': 'pepenite', 'code': '<linearGradient id=\"a\" gradientTransform=\"rotate(89)\" gradientUnits=\"objectBoundingBox\"> <stop stop-color=\"#557C3F\"></stop> <stop offset=\"0.515625\" stop-color=\"#B53F30\"></stop> <stop offset=\"1\" stop-color=\"#557C3F\"></stop> </linearGradient>'}, '1': {'name': 'white gold', 'code': '<linearGradient id=\"a\" gradientTransform=\"rotate(89)\" gradientUnits=\"objectBoundingBox\"> <stop stop-color=\"#85817F\"/> <stop offset=\"0.161458\" stop-color=\"#F5F3F2\"/> <stop offset=\"0.39375\" stop-color=\"#F0ECEB\"/> <stop offset=\"0.848958\" stop-color=\"#C3BCBB\"/> <stop offset=\"1\" stop-color=\"#7F7A79\"/> </linearGradient>'}, '2': {'name': 'Immutable Rose Gold', 'code': '<linearGradient id=\"a\" gradientTransform=\"rotate(89)\" gradientUnits=\"objectBoundingBox\"> <stop stop-color=\"#693C32\"/> <stop offset=\"0.161458\" stop-color=\"#CA9F8F\"/> <stop offset=\"0.359375\" stop-color=\"#D6AD9F\"/> <stop offset=\"0.546875\" stop-color=\"#F5D9D1\"/> <stop offset=\"0.776042\" stop-color=\"#DAB5A7\"/> <stop offset=\"1\" stop-color=\"#A86F5D\"/> </linearGradient>'}, '3': {'name': 'Steel', 'code': '<linearGradient id=\"a\" gradientTransform=\"rotate(84)\" gradientUnits=\"objectBoundingBox\"> <stop stop-color=\"#838383\"/> <stop offset=\"0.161458\" stop-color=\"#E6E5E5\"/> <stop offset=\"0.359375\" stop-color=\"#B1B1B1\"/> <stop offset=\"0.848958\" stop-color=\"#848484\"/> <stop offset=\"1\" stop-color=\"#D9D9D9\"/> </linearGradient>'}, '4': {'name': 'Gold', 'code': '<linearGradient id=\"a\" gradientTransform=\"rotate(89)\" gradientUnits=\"objectBoundingBox\"> <stop offset=\"7.55631e-050.202366\" stop-color=\"#EBD6A1\"/> <stop offset=\"0.347721\" stop-color=\"#FAEBB4\"/> <stop offset=\"0.523813\" stop-color=\"#815935\"/> <stop offset=\"0.771652\" stop-color=\"#EACB9E\"/> <stop offset=\"0.984375\" stop-color=\"#B48E64\"/> </linearGradient>'}, '5': {'name': 'Carbide', 'code': '<linearGradient id=\"a\" gradientTransform=\"rotate(90)\" gradientUnits=\"objectBoundingBox\"> <stop stop-color=\"#00000F\"/> <stop offset=\"0.12708\" stop-color=\"#505050\"/> <stop offset=\"0.552083\" stop-color=\"#030017\"/> <stop offset=\"0.8708333\" stop-color=\"#404040\"/> <stop offset=\"1\" stop-color=\"#0E0D0F\"/></linearGradient>'}}, 'color_b': {'0': {'name': 'Royal Azure', 'code': '<linearGradient id=\"b\" gradientUnits=\"objectBoundingBox\"> <stop stop-color=\"#0038A8\"></stop> </linearGradient> <linearGradient id=\"b1\" gradientUnits=\"objectBoundingBox\"> <stop stop-color=\"#FFF4DD\"></stop> </linearGradient>'}, '1': {'name': 'Base Pink', 'code': '<linearGradient id=\"b\" gradientUnits=\"objectBoundingBox\"> <stop stop-color=\"#EE84C8\"></stop> </linearGradient> <linearGradient id=\"b1\" gradientUnits=\"objectBoundingBox\"> <stop stop-color=\"#051E1D\"></stop> </linearGradient>'}, '2': {'name': 'Tomato', 'code': '<linearGradient id=\"b\" gradientUnits=\"objectBoundingBox\"> <stop stop-color=\"#D94E2A\"></stop> </linearGradient> <linearGradient id=\"b1\" gradientUnits=\"objectBoundingBox\"> <stop stop-color=\"#CEEFF7\"></stop> </linearGradient>'}, '3': {'name': 'Lavender', 'code': '<linearGradient id=\"b\" gradientUnits=\"objectBoundingBox\"> <stop stop-color=\"#B57EDC\"></stop> </linearGradient><linearGradient id=\"b1\" gradientUnits=\"objectBoundingBox\"> <stop stop-color=\"#171817\"></stop> </linearGradient>'}, '4': {'name': 'Sandstorm', 'code': '<linearGradient id=\"b\" gradientUnits=\"objectBoundingBox\"> <stop stop-color=\"#ECD540\"></stop> </linearGradient> <linearGradient id=\"b1\" gradientUnits=\"objectBoundingBox\"> <stop stop-color=\"#060D39\"></stop> </linearGradient>'}, '5': {'name': 'Lambo', 'code': '<linearGradient id=\"b\" gradientUnits=\"objectBoundingBox\"> <stop stop-color=\"#E46400\"></stop> </linearGradient> <linearGradient id=\"b1\" gradientUnits=\"objectBoundingBox\"> <stop stop-color=\"#0B3F66\"></stop> </linearGradient>'}, '6': {'name': 'Zucchini', 'code': '<linearGradient id=\"b\" gradientUnits=\"objectBoundingBox\"> <stop stop-color=\"#01371E\"></stop> </linearGradient> <linearGradient id=\"b1\" gradientUnits=\"objectBoundingBox\"> <stop stop-color=\"#FFD4E8\"></stop> </linearGradient>'}, '7': {'name': 'Spruce', 'code': '<linearGradient id=\"b\" gradientUnits=\"objectBoundingBox\"> <stop stop-color=\"#195245\"></stop> </linearGradient> <linearGradient id=\"b1\" gradientUnits=\"objectBoundingBox\"> <stop stop-color=\"#FFD4E8\"></stop> </linearGradient>'}, '8': {'name': 'Tiffany', 'code': '<linearGradient id=\"b\" gradientUnits=\"objectBoundingBox\"> <stop stop-color=\"#81D8D0\"></stop> </linearGradient> <linearGradient id=\"b1\" gradientUnits=\"objectBoundingBox\"> <stop stop-color=\"#800517\"></stop> </linearGradient>'}, '9': {'name': 'Jaguar', 'code': '<linearGradient id=\"b\" gradientUnits=\"objectBoundingBox\"> <stop stop-color=\"#07000F\"></stop> </linearGradient> <linearGradient id=\"b1\" gradientUnits=\"objectBoundingBox\"> <stop stop-color=\"#800517\"></stop> </linearGradient>'}, '10': {'name': 'Midnight', 'code': '<linearGradient id=\"b\" gradientUnits=\"objectBoundingBox\"> <stop stop-color=\"#2F3D57\"></stop> </linearGradient> <linearGradient id=\"b1\" gradientUnits=\"objectBoundingBox\"> <stop stop-color=\"#D1BEA8\"></stop> </linearGradient>'}, '11': {'name': 'Shiraz', 'code': '<linearGradient id=\"b\" gradientUnits=\"objectBoundingBox\"> <stop stop-color=\"#B20931\"></stop> </linearGradient> <linearGradient id=\"b1\" gradientUnits=\"objectBoundingBox\"> <stop stop-color=\"#4DF6CE\"></stop> </linearGradient>'}}, 'color_c': {'0': {'name': 'Gold', 'code': '<linearGradient id=\"c\" gradientTransform=\"rotate(75)\" gradientUnits=\"objectBoundingBox\"> <stop offset=\"0\" stop-color=\"#EBD6A1\"/> <stop offset=\"0.347\" stop-color=\"#FAEBB4\"/> <stop offset=\"0.523\" stop-color=\"#815935\"/> <stop offset=\"0.771\" stop-color=\"#EACB9E\"/> <stop offset=\"0.98\" stop-color=\"#B48E64\"/> </linearGradient> <linearGradient id=\"c1\" gradientUnits=\"objectBoundingBox\"> <stop offset=\"0\" stop-color=\"#030E36\"/> </linearGradient>'}, '1': {'name': 'Hulk', 'code': '<linearGradient id=\"c\" gradientTransform=\"rotate(72)\" gradientUnits=\"objectBoundingBox\"> <stop stop-color=\"#016032\"/> <stop offset=\"0.4975\" stop-color=\"#01993D\"/> <stop offset=\"0.989583\" stop-color=\"#016032\"/> </linearGradient> <linearGradient id=\"c1\" gradientUnits=\"objectBoundingBox\"> <stop stop-color=\"#FAE1E1\"/> </linearGradient>'}, '2': {'name': 'Miladyium', 'code': '<linearGradient id=\"c\" gradientTransform=\"rotate(79)\" gradientUnits=\"objectBoundingBox\"> <stop stop-color=\"#594D40\"/> <stop offset=\"0.357962\" stop-color=\"#A48280\"/> <stop offset=\"0.762219\" stop-color=\"#5C6987\"/> <stop offset=\"1\" stop-color=\"#6E8958\"/> </linearGradient> <linearGradient id=\"c1\" gradientUnits=\"objectBoundingBox\"> <stop stop-color=\"#031B0F\"/> </linearGradient>'}, '3': {'name': 'Carbide', 'code': '<linearGradient id=\"c\" gradientTransform=\"rotate(77)\" gradientUnits=\"objectBoundingBox\"> <stop stop-color=\"#00000F\"/> <stop offset=\"0.15708\" stop-color=\"#505050\"/> <stop offset=\"0.42\" stop-color=\"#030007\"/> <stop offset=\"0.83\" stop-color=\"#404040\"/> <stop offset=\"1\" stop-color=\"#0E0D0F\"/></linearGradient> <linearGradient id=\"c1\" gradientUnits=\"objectBoundingBox\"> <stop stop-color=\"#E6E6D8\"/> </linearGradient>'}, '4': {'name': 'white Gold', 'code': '<linearGradient id=\"c\" gradientTransform=\"rotate(78)\" gradientUnits=\"objectBoundingBox\"> <stop stop-color=\"#85817F\"/> <stop offset=\"0.161458\" stop-color=\"#F5F3F2\"/> <stop offset=\"0.39375\" stop-color=\"#F0ECEB\"/> <stop offset=\"0.848958\" stop-color=\"#C3BCBB\"/> <stop offset=\"1\" stop-color=\"#9F9A99\"/> </linearGradient> <linearGradient id=\"c1\" gradientUnits=\"objectBoundingBox\"> <stop stop-color=\"#434040\"/> </linearGradient>'}, '5': {'name': 'Candy Blue', 'code': '<linearGradient id=\"c\" gradientTransform=\"rotate(77)\" gradientUnits=\"objectBoundingBox\"> <stop stop-color=\"#19345C\"/> <stop offset=\"0.5\" stop-color=\"#014DB9\"/> <stop offset=\"0.989583\" stop-color=\"#0B3466\"/> </linearGradient> <linearGradient id=\"c1\" gradientUnits=\"objectBoundingBox\"> <stop stop-color=\"#F7EFE2\"/> </linearGradient>'}, '6': {'name': 'Steel', 'code': '<linearGradient id=\"c\" gradientTransform=\"rotate(73)\" gradientUnits=\"objectBoundingBox\"> <stop stop-color=\"#838383\"/> <stop offset=\"0.359375\" stop-color=\"#B1B1B1\"/> <stop offset=\"0.548958\" stop-color=\"#848484\"/> <stop offset=\"1\" stop-color=\"#b9b9b9\"/> </linearGradient> <linearGradient id=\"c1\" gradientUnits=\"objectBoundingBox\"> <stop stop-color=\"#2A322F\"/> </linearGradient>'}, '7': {'name': 'Nakamigium', 'code': '<linearGradient id=\"c\" gradientTransform=\"rotate(85)\" gradientUnits=\"objectBoundingBox\"> <stop stop-color=\"#80A1F2\"/> <stop offset=\"0.328125\" stop-color=\"#84A4F3\"/> <stop offset=\"0.520833\" stop-color=\"#B1C7FD\"/> <stop offset=\"0.6875\" stop-color=\"#87A6F4\"/> <stop offset=\"1\" stop-color=\"#80A1F2\"/> </linearGradient> <linearGradient id=\"c1\" gradientUnits=\"objectBoundingBox\"> <stop stop-color=\"#031B0F\"/> </linearGradient>'}, '8': {'name': 'Barbium', 'code': '<linearGradient id=\"c\" gradientTransform=\"rotate(75)\" gradientUnits=\"objectBoundingBox\"> <stop stop-color=\"#EB4398\"></stop> <stop offset=\"0.4\" stop-color=\"#EB4398\"></stop> <stop offset=\"0.510417\" stop-color=\"#F844D2\"></stop> <stop offset=\"0.6\" stop-color=\"#EB4398\"></stop> <stop offset=\"1\" stop-color=\"#EB4398\"></stop></linearGradient> <linearGradient id=\"c1\" gradientUnits=\"objectBoundingBox\"> <stop stop-color=\"#031B0F\"/> </linearGradient>'}, '9': {'name': 'Immutable Rose Gold', 'code': '<linearGradient id=\"c\" gradientTransform=\"rotate(65)\" gradientUnits=\"objectBoundingBox\"> <stop stop-color=\"#693C32\"/> <stop offset=\"0.161458\" stop-color=\"#CA9F8F\"/> <stop offset=\"0.359375\" stop-color=\"#D6AD9F\"/> <stop offset=\"0.546875\" stop-color=\"#F5D9D1\"/> <stop offset=\"0.776042\" stop-color=\"#DAB5A7\"/> <stop offset=\"1\" stop-color=\"#D6AD9F\"/> </linearGradient> <linearGradient id=\"c1\" gradientUnits=\"objectBoundingBox\"> <stop stop-color=\"#F7EFE2\"/> </linearGradient>'}}, 'hands': {'0': {'name': 'Plongeur', 'code': '<g id=\"houru\" transform=\"rotate(305,200,200)\"><path d=\"M191.021 147.96L200 128.397L208.979 147.96L205.437 186H194.563L191.021 147.96Z\" fill=\"url(#a)\" stroke=\"url(#c)\" stroke-width=\"2\"/> <rect x=\"197.5\" y=\"186.5\" width=\"5\" height=\"13\" fill=\"url(#a)\" stroke=\"url(#c)\"/></g><g id=\"minu\" transform=\"rotate(63.2,200,200)\"><rect x=\"197.5\" y=\"188.382\" width=\"5\" height=\"11.1176\" fill=\"url(#a)\" stroke=\"url(#c)\"/> <path d=\"M194 104.435L200 98.4164L206 104.435V186.049L200 188.802L194 186.049V104.435Z\" fill=\"url(#a)\" stroke=\"url(#c)\" stroke-width=\"2\"/></g><g id=\"secondu\" transform=\"rotate(181,200,200)\"><path d=\"M199.244 73.995a.755.755 0 0 1 .756-.745c.414 0 .754.335.756.745l.987 151a.75.75 0 0 1-.75.755h-1.986a.75.75 0 0 1-.75-.755l.987-151Z\" fill=\"url(#a)\" stroke=\"url(#c)\" stroke-width=\".5\"/><path d=\"m198.077 98.5.857-6h2.132l.857 6h-3.846Z\" fill=\"url(#a)\" stroke=\"url(#c)\"/><circle cx=\"200\" cy=\"200\" r=\"6.5\" fill=\"url(#a)\" stroke=\"url(#c)\"/></g>'}, '1': {'name': 'Duaphine', 'code': '<g id=\"houru\" transform=\"rotate(305,200,200)\"><path d=\"M190.106 184.247L199.9 123.254V195.729L190.106 184.247Z\" fill=\"url(#a)\" stroke=\"black\" stroke-width=\"0.2\"/> <path d=\"M209.894 184.247L200.1 123.254V195.729L209.894 184.247Z\" fill=\"url(#c)\" stroke=\"black\" stroke-width=\"0.2\"/></g><g id=\"minu\" transform=\"rotate(63.2,200,200)\"><path d=\"M192.102 183.664L199.9 99.1717V199.569L192.102 183.664Z\" fill=\"url(#a)\" stroke=\"black\" stroke-width=\"0.2\"/> <path d=\"M207.898 183.664L200.1 99.1717V199.569L207.898 183.664Z\" fill=\"url(#c)\" stroke=\"black\" stroke-width=\"0.2\"/></g><g id=\"secondu\" transform=\"rotate(181,200,200)\"><rect x=\"199.257\" y=\"75\" width=\"1.25175\" height=\"43.0245\" fill=\"url(#c)\"/> <rect x=\"199\" y=\"129\" width=\"2\" height=\"89\" fill=\"url(#c)\"/> <path d=\"M205.766 123.908C205.766 127.157 203.132 129.791 199.883 129.791C196.634 129.791 194 127.157 194 123.908C194 120.659 196.634 118.025 199.883 118.025C203.132 118.025 205.766 120.659 205.766 123.908ZM195.651 123.908C195.651 126.245 197.546 128.14 199.883 128.14C202.221 128.14 204.116 126.245 204.116 123.908C204.116 121.57 202.221 119.675 199.883 119.675C197.546 119.675 195.651 121.57 195.651 123.908Z\" fill=\"url(#c)\"/> <circle cx=\"199.865\" cy=\"222.957\" r=\"5.04277\" fill=\"url(#c)\"/> <circle cx=\"200\" cy=\"200\" r=\"6.5\" fill=\"url(#a)\" stroke=\"url(#c)\" stroke-width=\"2\"/></g>'}, '2': {'name': 'Baton', 'code': '<g id=\"houru\" transform=\"rotate(305,200,200)\"><rect x=\"194\" y=\"125\" width=\"12\" height=\"74\" rx=\"6\" fill=\"url(#a)\" stroke=\"url(#c)\" stroke-width=\"2\"/></g><g id=\"minu\" transform=\"rotate(63.2,200,200)\"><rect x=\"196\" y=\"96\" width=\"8\" height=\"103\" rx=\"4\" fill=\"url(#a)\" stroke=\"url(#c)\" stroke-width=\"2\"/></g><g id=\"secondu\" transform=\"rotate(181,200,200)\"><rect x=\"198\" y=\"75\" width=\"4\" height=\"153\" rx=\"2\" fill=\"url(#a)\" stroke=\"url(#c)\" stroke-width=\"2\"/> <circle cx=\"200\" cy=\"200\" r=\"6.5\" fill=\"url(#a)\" stroke=\"url(#c)\" stroke-width=\"2\"/></g>'}}, 'hour_marker': {'0': {'name': 'Roman', 'code': '<g font-family=\"Times New Roman\" font-size=\"20\" dominant-baseline=\"central\" text-anchor=\"middle\" fill=\"url(#c)\" stroke=\"url(#a)\" stroke-width=\".5\"><text x=\"200\" y=\"90\">XII</text><text x=\"200\" y=\"90\" transform=\"rotate(30 200 200)\">I</text><text x=\"200\" y=\"90\" transform=\"rotate(60 200 200)\">II</text><text x=\"200\" y=\"90\" transform=\"rotate(90 200 200)\">III</text><text x=\"200\" y=\"90\" transform=\"rotate(120 200 200)\">IIII</text><text x=\"200\" y=\"90\" transform=\"rotate(150 200 200)\">V</text><text x=\"200\" y=\"90\" transform=\"rotate(180 200 200)\">VI</text><text x=\"200\" y=\"90\" transform=\"rotate(210 200 200)\">VII</text><text x=\"200\" y=\"90\" transform=\"rotate(240 200 200)\">VIII</text><text x=\"200\" y=\"90\" transform=\"rotate(270 200 200)\">IX</text><text x=\"200\" y=\"90\" transform=\"rotate(300 200 200)\">X</text><text x=\"200\" y=\"90\" transform=\"rotate(330 200 200)\">XI</text></g>'}, '1': {'name': 'Numerals', 'code': '<g font-family=\"Arial\" font-size=\"20\" dominant-baseline=\"central\" text-anchor=\"middle\" fill=\"url(#a)\" stroke=\"url(#c)\" stroke-width=\".5\"><text x=\"200\" y=\"90\" alignment-baseline=\"central\">12</text><text x=\"255\" y=\"104.737\" alignment-baseline=\"central\">1</text><text x=\"295.263\" y=\"145\" alignment-baseline=\"central\">2</text><text x=\"310\" y=\"200\" alignment-baseline=\"central\">3</text><text x=\"295.263\" y=\"255\" alignment-baseline=\"central\">4</text><text x=\"255\" y=\"295.263\" alignment-baseline=\"central\">5</text><text x=\"200\" y=\"310\" alignment-baseline=\"central\">6</text><text x=\"145\" y=\"295.263\" alignment-baseline=\"central\">7</text><text x=\"104.737\" y=\"255\" alignment-baseline=\"central\">8</text><text x=\"90\" y=\"200\" alignment-baseline=\"central\">9</text><text x=\"104.737\" y=\"145\" alignment-baseline=\"central\">10</text><text x=\"145\" y=\"104.737\" alignment-baseline=\"central\">11</text></g>'}, '2': {'name': 'GM Time', 'code': '<g font-family=\"Tahoma\" font-size=\"16\" dominant-baseline=\"central\" text-anchor=\"middle\" fill=\"url(#c)\" stroke=\"url(#a)\" stroke-width=\".5\"><text x=\"200\" y=\"90\">gm</text><text x=\"200\" y=\"90\" transform=\"rotate(30 200 200)\">gm</text><text x=\"200\" y=\"90\" transform=\"rotate(60 200 200)\">gm</text><text x=\"200\" y=\"90\" transform=\"rotate(90 200 200)\">gm</text><text x=\"200\" y=\"90\" transform=\"rotate(120 200 200)\">gm</text><text x=\"200\" y=\"90\" transform=\"rotate(150 200 200)\">gm</text><text x=\"200\" y=\"90\" transform=\"rotate(180 200 200)\">gm</text><text x=\"200\" y=\"90\" transform=\"rotate(210 200 200)\">gm</text><text x=\"200\" y=\"90\" transform=\"rotate(240 200 200)\">gm</text><text x=\"200\" y=\"90\" transform=\"rotate(270 200 200)\">gm</text><text x=\"200\" y=\"90\" transform=\"rotate(300 200 200)\">gm</text><text x=\"200\" y=\"90\" transform=\"rotate(330 200 200)\">gm</text></g>'}, '3': {'name': 'Arabic', 'code': '<g font-family=\"Arial\" font-size=\"20\" dominant-baseline=\"central\" text-anchor=\"middle\" fill=\"url(#c)\" stroke=\"url(#a)\" stroke-width=\".5\"><text x=\"200\" y=\"90\" alignment-baseline=\"central\">١٢</text><text x=\"255\" y=\"104.737\" alignment-baseline=\"central\">١</text><text x=\"295.263\" y=\"145\" alignment-baseline=\"central\">٢</text><text x=\"310\" y=\"200\" alignment-baseline=\"central\">٣</text><text x=\"295.263\" y=\"255\" alignment-baseline=\"central\">٤</text><text x=\"255\" y=\"295.263\" alignment-baseline=\"central\">٥</text><text x=\"200\" y=\"310\" alignment-baseline=\"central\">٦</text><text x=\"145\" y=\"295.263\" alignment-baseline=\"central\">٧</text><text x=\"104.737\" y=\"255\" alignment-baseline=\"central\">٨</text><text x=\"90\" y=\"200\" alignment-baseline=\"central\">٩</text><text x=\"104.737\" y=\"145\" alignment-baseline=\"central\">١٠</text><text x=\"145\" y=\"104.737\" alignment-baseline=\"central\">١١</text></g>'}, '4': {'name': 'Double Baguette', 'code': '<path d=\"M198 82.5h-4a1 1 0 0 0-1 1v13a1 1 0 0 0 1 1h4a1 1 0 0 0 1-1v-13a1 1 0 0 0-1-1Z\" fill=\"url(#c)\" stroke=\"url(#a)\"/><path d=\"M206 82.5h-4a1 1 0 0 0-1 1v13a1 1 0 0 0 1 1h4a1 1 0 0 0 1-1v-13a1 1 0 0 0-1-1Z\" fill=\"url(#c)\" stroke=\"url(#a)\"/><path d=\"m260.482 99.242-3.464-2a1 1 0 0 0-1.366.366l-6.5 11.259a1 1 0 0 0 .366 1.366l3.464 2a1 1 0 0 0 1.366-.366l6.5-11.259a.998.998 0 0 0-.366-1.366Z\" fill=\"url(#c)\" stroke=\"url(#a)\"/><path d=\"m302.758 142.979-2-3.465a1 1 0 0 0-1.366-.366l-11.259 6.5a1 1 0 0 0-.366 1.366l2 3.465a1 1 0 0 0 1.366.366l11.259-6.5a1 1 0 0 0 .366-1.366Z\" fill=\"url(#c)\" stroke=\"url(#a)\"/><path d=\"M317.5 198v-4a1 1 0 0 0-1-1h-13a1 1 0 0 0-1 1v4a1 1 0 0 0 1 1h13a1 1 0 0 0 1-1Z\" fill=\"url(#c)\" stroke=\"url(#a)\"/><path d=\"M317.5 206v-4a1 1 0 0 0-1-1h-13a1 1 0 0 0-1 1v4a1 1 0 0 0 1 1h13a1 1 0 0 0 1-1Z\" fill=\"url(#c)\" stroke=\"url(#a)\"/><path d=\"m300.758 260.479 2-3.465a1 1 0 0 0-.366-1.366l-11.259-6.5a1 1 0 0 0-1.366.366l-2 3.465a1 1 0 0 0 .366 1.366l11.259 6.5a1 1 0 0 0 1.366-.366Z\" fill=\"url(#c)\" stroke=\"url(#a)\"/><path d=\"m257.018 302.758 3.464-2a1 1 0 0 0 .366-1.366l-6.5-11.259a1 1 0 0 0-1.366-.366l-3.464 2a.999.999 0 0 0-.366 1.366l6.5 11.259a1 1 0 0 0 1.366.366Z\" fill=\"url(#c)\" stroke=\"url(#a)\"/><path d=\"M202 317.5h4a1 1 0 0 0 1-1v-13a1 1 0 0 0-1-1h-4a1 1 0 0 0-1 1v13a1 1 0 0 0 1 1Z\" fill=\"url(#c)\" stroke=\"url(#a)\"/><path d=\"M194 317.5h4a1 1 0 0 0 1-1v-13a1 1 0 0 0-1-1h-4a1 1 0 0 0-1 1v13a1 1 0 0 0 1 1Z\" fill=\"url(#c)\" stroke=\"url(#a)\"/><path d=\"m139.518 300.758 3.464 2a1 1 0 0 0 1.366-.366l6.5-11.259a1 1 0 0 0-.366-1.366l-3.464-2a1 1 0 0 0-1.366.366l-6.5 11.259a.999.999 0 0 0 .366 1.366Z\" fill=\"url(#c)\" stroke=\"url(#a)\"/><path d=\"m97.242 257.021 2 3.465a1 1 0 0 0 1.366.366l11.259-6.5a1 1 0 0 0 .366-1.366l-2-3.465a1 1 0 0 0-1.366-.366l-11.259 6.5a1 1 0 0 0-.366 1.366Z\" fill=\"url(#c)\" stroke=\"url(#a)\"/><path d=\"M82.5 202v4a1 1 0 0 0 1 1h13a1 1 0 0 0 1-1v-4a1 1 0 0 0-1-1h-13a1 1 0 0 0-1 1Z\" fill=\"url(#c)\" stroke=\"url(#a)\"/><path d=\"M82.5 194v4a1 1 0 0 0 1 1h13a1 1 0 0 0 1-1v-4a1 1 0 0 0-1-1h-13a1 1 0 0 0-1 1Z\" fill=\"url(#c)\" stroke=\"url(#a)\"/><path d=\"m300.758 260.479 2-3.465a1 1 0 0 0-.366-1.366l-11.259-6.5a1 1 0 0 0-1.366.366l-2 3.465a1 1 0 0 0 .366 1.366l11.259 6.5a1 1 0 0 0 1.366-.366Z\" fill=\"url(#c)\" stroke=\"url(#a)\"/><path d=\"m99.242 139.521-2 3.465a1 1 0 0 0 .366 1.366l11.259 6.5a1 1 0 0 0 1.366-.366l2-3.465a1 1 0 0 0-.366-1.366l-11.259-6.5a1 1 0 0 0-1.366.366Z\" fill=\"url(#c)\" stroke=\"url(#a)\"/><path d=\"m142.982 97.242-3.464 2a1 1 0 0 0-.366 1.366l6.5 11.259a1 1 0 0 0 1.366.366l3.464-2a.999.999 0 0 0 .366-1.366l-6.5-11.259a1 1 0 0 0-1.366-.366Z\" fill=\"url(#c)\" stroke=\"url(#a)\"/>'}, '5': {'name': 'Baguette', 'code': '<path d=\"M202 82.5h-4a1 1 0 0 0-1 1v13a1 1 0 0 0 1 1h4a1 1 0 0 0 1-1v-13a1 1 0 0 0-1-1Z\" fill=\"url(#c)\" stroke=\"url(#a)\"/><path d=\"m260.482 99.242-3.464-2a1 1 0 0 0-1.366.366l-6.5 11.259a1 1 0 0 0 .366 1.366l3.464 2a1 1 0 0 0 1.366-.366l6.5-11.259a.998.998 0 0 0-.366-1.366Z\" fill=\"url(#c)\" stroke=\"url(#a)\"/><path d=\"m302.758 142.979-2-3.465a1 1 0 0 0-1.366-.366l-11.259 6.5a1 1 0 0 0-.366 1.366l2 3.465a1 1 0 0 0 1.366.366l11.259-6.5a1 1 0 0 0 .366-1.366Z\" fill=\"url(#c)\" stroke=\"url(#a)\"/><path d=\"M317.5 202v-4a1 1 0 0 0-1-1h-13a1 1 0 0 0-1 1v4a1 1 0 0 0 1 1h13a1 1 0 0 0 1-1Z\" fill=\"url(#c)\" stroke=\"url(#a)\"/><path d=\"m300.758 260.479 2-3.465a1 1 0 0 0-.366-1.366l-11.259-6.5a1 1 0 0 0-1.366.366l-2 3.465a1 1 0 0 0 .366 1.366l11.259 6.5a1 1 0 0 0 1.366-.366Z\" fill=\"url(#c)\" stroke=\"url(#a)\"/><path d=\"m257.018 302.758 3.464-2a1 1 0 0 0 .366-1.366l-6.5-11.259a1 1 0 0 0-1.366-.366l-3.464 2a.999.999 0 0 0-.366 1.366l6.5 11.259a1 1 0 0 0 1.366.366Z\" fill=\"url(#c)\" stroke=\"url(#a)\"/><path d=\"M198 317.5h4a1 1 0 0 0 1-1v-13a1 1 0 0 0-1-1h-4a1 1 0 0 0-1 1v13a1 1 0 0 0 1 1Z\" fill=\"url(#c)\" stroke=\"url(#a)\"/><path d=\"m139.518 300.758 3.464 2a1 1 0 0 0 1.366-.366l6.5-11.259a1 1 0 0 0-.366-1.366l-3.464-2a1 1 0 0 0-1.366.366l-6.5 11.259a.999.999 0 0 0 .366 1.366Z\" fill=\"url(#c)\" stroke=\"url(#a)\"/><path d=\"m97.242 257.021 2 3.465a1 1 0 0 0 1.366.366l11.259-6.5a1 1 0 0 0 .366-1.366l-2-3.465a1 1 0 0 0-1.366-.366l-11.259 6.5a1 1 0 0 0-.366 1.366Z\" fill=\"url(#c)\" stroke=\"url(#a)\"/><path d=\"M82.5 198v4a1 1 0 0 0 1 1h13a1 1 0 0 0 1-1v-4a1 1 0 0 0-1-1h-13a1 1 0 0 0-1 1Z\" fill=\"url(#c)\" stroke=\"url(#a)\"/><path d=\"m300.758 260.479 2-3.465a1 1 0 0 0-.366-1.366l-11.259-6.5a1 1 0 0 0-1.366.366l-2 3.465a1 1 0 0 0 .366 1.366l11.259 6.5a1 1 0 0 0 1.366-.366Z\" fill=\"url(#c)\" stroke=\"url(#a)\"/><path d=\"m99.242 139.521-2 3.465a1 1 0 0 0 .366 1.366l11.259 6.5a1 1 0 0 0 1.366-.366l2-3.465a1 1 0 0 0-.366-1.366l-11.259-6.5a1 1 0 0 0-1.366.366Z\" fill=\"url(#c)\" stroke=\"url(#a)\"/><path d=\"m142.982 97.242-3.464 2a1 1 0 0 0-.366 1.366l6.5 11.259a1 1 0 0 0 1.366.366l3.464-2a.999.999 0 0 0 .366-1.366l-6.5-11.259a1 1 0 0 0-1.366-.366Z\" fill=\"url(#c)\" stroke=\"url(#a)\"/>'}}, 'minute_marker': {'0': {'name': 'Railroad track with sub-seconds', 'code': '<circle cx=\"200\" cy=\"200\" r=\"126\" stroke=\"url(#b1)\"/> <circle cx=\"200\" cy=\"200\" r=\"121\" stroke=\"url(#b1)\"/> <circle cx=\"200\" cy=\"200\" r=\"123.5\" stroke-width=\"4\" stroke=\"url(#b1)\" stroke-dasharray=\" 1 11.932\" stroke-dashoffset=\".5\"/> <circle cx=\"200\" cy=\"200\" r=\"123.5\" stroke-width=\"2\" stroke=\"url(#b1)\" stroke-dasharray=\" 0.5 2.086\" stroke-dashoffset=\".25\"/>'}, '1': {'name': 'Sticks-1', 'code': '<circle cx=\"200\" cy=\"200\" r=\"123.5\" stroke-width=\"5\" stroke=\"url(#b1)\" stroke-dasharray=\" 2 10.932\" stroke-dashoffset=\"1\"/>'}, '2': {'name': 'Sub-seconds', 'code': '<circle cx=\"200\" cy=\"200\" r=\"123.5\" stroke-width=\"2.586\" stroke=\"url(#b1)\" stroke-dasharray=\" 2.586 10.345\" stroke-dashoffset=\"1.293\"/> <circle cx=\"200\" cy=\"200\" r=\"123.5\" stroke-width=\"1\" stroke=\"url(#b1)\" stroke-dasharray=\" 0.5 2.086\" stroke-dashoffset=\".25\"/>'}, '3': {'name': 'Railroad track-1', 'code': '<circle cx=\"200\" cy=\"200\" r=\"126\" stroke=\"url(#b1)\"/> <circle cx=\"200\" cy=\"200\" r=\"121\" stroke=\"url(#b1)\"/> <circle cx=\"200\" cy=\"200\" r=\"123.5\" stroke-width=\"4\" stroke=\"url(#b1)\" stroke-dasharray=\" 1 11.932\" stroke-dashoffset=\".5\"/>'}, '4': {'name': 'Sticks-2', 'code': '<circle cx=\"200\" cy=\"200\" r=\"123.5\" stroke-width=\"5\" stroke=\"url(#b1)\" stroke-dasharray=\" 2.586 10.345\" stroke-dashoffset=\"1.293\"/> <circle cx=\"200\" cy=\"200\" r=\"123.5\" stroke-width=\"5\" stroke=\"url(#b1)\" stroke-dasharray=\" 5 59.66\" stroke-dashoffset=\"2.5\"/>'}, '5': {'name': 'Railroad track-2', 'code': '<circle cx=\"200\" cy=\"200\" r=\"126\" stroke=\"url(#b1)\"/> <circle cx=\"200\" cy=\"200\" r=\"121\" stroke=\"url(#b1)\"/> <circle cx=\"200\" cy=\"200\" r=\"123.5\" stroke-width=\"5\" stroke=\"url(#b1)\" stroke-dasharray=\" 2.586 10.345\" stroke-dashoffset=\"1.293\"/> <circle cx=\"200\" cy=\"200\" r=\"123.5\" stroke-width=\"5\" stroke=\"url(#b1)\" stroke-dasharray=\" 5 59.66\" stroke-dashoffset=\"2.5\"/>'}, '6': {'name': 'Sticks-Numerals', 'code': '<circle cx=\"200\" cy=\"200\" r=\"123.5\" stroke-width=\"5\" stroke=\"url(#b1)\" stroke-dasharray=\"2 10.932 2 10.932 2 10.932 2 10.932 0 12.932\" stroke-dashoffset=\"-11.932\"/><g class=\"ind\" font-family=\"Arial\" font-size=\"10\" dominant-baseline=\"central\" text-anchor=\"middle\" fill=\"url(#b1)\" mask=\"url(#hourMarkerMask)\"><text x=\"200\" y=\"77\">60</text><text x=\"200\" y=\"77\" transform=\"rotate(30 200 200)\">5</text><text x=\"200\" y=\"77\" transform=\"rotate(60 200 200)\">10</text><text x=\"200\" y=\"77\" transform=\"rotate(90 200 200)\">15</text><text x=\"200\" y=\"77\" transform=\"rotate(120 200 200)\">20</text><text x=\"200\" y=\"77\" transform=\"rotate(150 200 200)\">25</text><text x=\"200\" y=\"77\" transform=\"rotate(180 200 200)\">30</text><text x=\"200\" y=\"77\" transform=\"rotate(210 200 200)\">35</text><text x=\"200\" y=\"77\" transform=\"rotate(240 200 200)\">40</text><text x=\"200\" y=\"77\" transform=\"rotate(270 200 200)\">45</text><text x=\"200\" y=\"77\" transform=\"rotate(300 200 200)\">50</text><text x=\"200\" y=\"77\" transform=\"rotate(330 200 200)\">55</text></g>'}}, 'strap': {'0': {'name': 'Jubliee', 'code': '<path d=\"M270.16 60C269.66 43 271.16 18 268.16 1H132.16C129.16 21 130.16 43.6 130.16 60H270.16Z\" fill=\"#201E1E\" stroke=\"black\" stroke-width=\"0.1\"/> <path d=\"M171.387 58H187.933C190.903 41.0417 190.903 41.5 187.933 25H171.388C168.418 41.5 168.418 41.0417 171.387 58Z\" fill=\"url(#a)\" fill-opacity=\"0.75\"/> <path d=\"M171.387 24H187.933C190.204 11.4264 190.738 8.72655 189.536 1H169.784C168.582 8.72655 169.117 11.4264 171.387 24Z\" fill=\"url(#a)\" fill-opacity=\"0.75\"/> <path d=\"M191.493 45H208.827C211.938 27.5278 211.938 28 208.827 11H191.494C188.382 28 188.382 27.5278 191.493 45Z\" fill=\"url(#a)\" fill-opacity=\"0.75\"/> <path d=\"M191.494 10H208.827C209.536 6.25549 210.083 3.38668 210.469 1H189.853C190.238 3.38668 190.785 6.25549 191.494 10Z\" fill=\"url(#a)\" fill-opacity=\"0.75\"/> <path d=\"M212.387 58H228.933C231.903 41.0417 231.903 41.5 228.933 25H212.388C209.418 41.5 209.418 41.0417 212.387 58Z\" fill=\"url(#a)\" fill-opacity=\"0.75\"/> <path d=\"M212.387 24H228.933C231.204 11.4264 231.738 8.72655 230.536 1H210.784C209.582 8.72655 210.117 11.4264 212.387 24Z\" fill=\"url(#a)\" fill-opacity=\"0.75\"/> <path d=\"M232.16 42H270.099C270.099 24.5 270.599 22 268.789 6H232.16L232.16 6.00126C229.66 24 229.66 24.0004 232.16 42Z\" fill=\"url(#a)\"/> <path d=\"M232.71 76H270.16V42.5H232.71L232.71 76Z\" fill=\"url(#a)\"/> <path d=\"M168.162 42H130.223C130.223 24.5 129.724 22 131.533 6H168.162L168.162 6.00126C170.662 24 170.662 24.0004 168.162 42Z\" fill=\"url(#a)\"/> <path d=\"M168.307 5H131.66L132.162 1H169.38C169.66 1.5 169.38 3.33536 168.307 5Z\" fill=\"url(#a)\"/> <path d=\"M232.031 5H268.66L268.16 1H231.262C231.16 1.5 230.952 3.33536 232.031 5Z\" fill=\"url(#a)\"/> <path d=\"M167.612 76H130.162V42.5H167.612L167.612 76Z\" fill=\"url(#a)\"/> <path d=\"M270 342C269.5 359 271 384 268 401H132C129 381 130 358.4 130 342H270Z\" fill=\"#201E1E\" stroke=\"black\" stroke-width=\"0.1\"/> <path d=\"M171.227 344H187.773C190.742 360.958 190.743 360.5 187.772 377H171.228C168.257 360.5 168.258 360.958 171.227 344Z\" fill=\"url(#a)\" fill-opacity=\"0.75\"/> <path d=\"M171.227 378H187.773C190.043 390.574 190.578 393.273 189.376 401H169.624C168.422 393.273 168.957 390.574 171.227 378Z\" fill=\"url(#a)\" fill-opacity=\"0.75\"/> <path d=\"M191.333 357H208.667C211.778 374.472 211.778 374 208.666 391H191.334C188.222 374 188.222 374.472 191.333 357Z\" fill=\"url(#a)\" fill-opacity=\"0.75\"/> <path d=\"M191.334 392H208.667C209.376 395.745 209.923 398.613 210.308 401H189.692C190.078 398.613 190.625 395.745 191.334 392Z\" fill=\"url(#a)\" fill-opacity=\"0.75\"/> <path d=\"M212.227 344H228.773C231.742 360.958 231.743 360.5 228.772 377H212.228C209.257 360.5 209.258 360.958 212.227 344Z\" fill=\"url(#a)\" fill-opacity=\"0.75\"/> <path d=\"M212.227 378H228.773C231.043 390.574 231.578 393.273 230.376 401H210.624C209.422 393.273 209.957 390.574 212.227 378Z\" fill=\"url(#a)\" fill-opacity=\"0.75\"/> <path d=\"M232 360H269.939C269.939 377.5 270.438 380 268.629 396H232L232 395.999C229.5 378 229.5 378 232 360Z\" fill=\"url(#a)\"/> <path d=\"M232.55 326H270V359.5H232.55L232.55 326Z\" fill=\"url(#a)\"/> <path d=\"M168.002 360H130.063C130.063 377.5 129.564 380 131.373 396H168.002L168.002 395.999C170.502 378 170.502 378 168.002 360Z\" fill=\"url(#a)\"/> <path d=\"M168.147 397H131.5L132.002 401H169.22C169.5 400.5 169.22 398.665 168.147 397Z\" fill=\"url(#a)\"/> <path d=\"M231.87 397H268.5L268 401H231.102C231 400.5 230.792 398.665 231.87 397Z\" fill=\"url(#a)\"/> <path d=\"M167.452 326H130.002V359.5H167.452L167.452 326Z\" fill=\"url(#a)\"/>'}, '1': {'name': 'Oyster', 'code': '<path d=\"M270.001 66.2109V21.2109L235 0H164.5L130.001 21.2109V66.2109H270.001Z\" fill=\"black\"/> <path d=\"M232 0H268.5C270 7.33332 270.005 17.1486 270.005 21.8828H232.005L232 0Z\" fill=\"url(#a)\"/> <path d=\"M232.001 66.2109H270.001V22.2109H232.001V66.2109Z\" fill=\"url(#a)\"/> <path d=\"M167.743 66.2109H130V22.7625H167.743V66.2109Z\" fill=\"url(#a)\"/> <path d=\"M167.758 0.000326157H132.502C131.002 7.00033 130.001 17.7337 130.001 22.4375H167.758V0.000326157Z\" fill=\"url(#a)\"/> <path d=\"M231.632 0V11H168V0H231.632Z\" fill=\"url(#a)\"/> <path d=\"M168.001 60.2109H231.681V11.5571L168.001 11.7109V60.2109Z\" fill=\"url(#a)\"/> <path d=\"M270 334V379L235 400H164.5L130 379V334H270Z\" fill=\"black\"/> <path d=\"M232 400H268.5C270 392.667 270 383.062 270 378.328H232V400Z\" fill=\"url(#a)\"/> <path d=\"M232 334H270V378H232V334Z\" fill=\"url(#a)\"/> <path d=\"M167.742 334H129.999V377.448H167.742V334Z\" fill=\"url(#a)\"/> <path d=\"M167.816 400H132.511C131.001 393.136 129.994 382.612 129.994 378H167.811L167.816 400Z\" fill=\"url(#a)\"/> <path d=\"M231.619 400V389H168V400H231.619Z\" fill=\"url(#a)\"/> <path d=\"M168 340H231.68V388.654L168 388.5V340Z\" fill=\"url(#a)\"/>'}, '2': {'name': 'Jubilee Reverso', 'code': '<path d=\"M270.16 59C269.66 42 271.16 17 268.16 0H132.16C129.16 20 130.16 42.6 130.16 59H270.16Z\" fill=\"#201E1E\"/> <path d=\"M171.387 57H187.933C190.903 40.0417 190.903 40.5 187.933 24H171.388C168.418 40.5 168.418 40.0417 171.387 57Z\" fill=\"url(#a)\"/> <path d=\"M171.387 23H187.933C190.204 10.4264 190.738 7.72655 189.536 0H169.784C168.582 7.72655 169.117 10.4264 171.387 23Z\" fill=\"url(#a)\"/> <path d=\"M191.493 44H208.827C211.938 26.5278 211.938 27 208.827 10H191.494C188.382 27 188.382 26.5278 191.493 44Z\" fill=\"url(#a)\"/> <path d=\"M191.494 9H208.827C209.536 5.25549 210.083 2.38668 210.469 0H189.853C190.238 2.38668 190.785 5.25549 191.494 9Z\" fill=\"url(#a)\"/> <path d=\"M212.387 57H228.933C231.903 40.0417 231.903 40.5 228.933 24H212.388C209.418 40.5 209.418 40.0417 212.387 57Z\" fill=\"url(#a)\"/> <path d=\"M212.387 23H228.933C231.204 10.4264 231.738 7.72655 230.536 0H210.784C209.582 7.72655 210.117 10.4264 212.387 23Z\" fill=\"url(#a)\"/> <path d=\"M232.16 41H270.099C270.099 23.5 270.599 21 268.789 5H232.16L232.16 5.00126C229.66 23 229.66 23.0004 232.16 41Z\" fill=\"url(#a)\"/> <path d=\"M232.71 75H270.16V41.5H232.71L232.71 75Z\" fill=\"url(#a)\" fill-opacity=\"0.9\"/> <path d=\"M168.162 41H130.223C130.223 23.5 129.724 21 131.533 5H168.162L168.162 5.00126C170.662 23 170.662 23.0004 168.162 41Z\" fill=\"url(#a)\" fill-opacity=\"0.9\"/> <path d=\"M168.307 4H131.66L132.162 0H169.38C169.66 0.5 169.38 2.33536 168.307 4Z\" fill=\"url(#a)\" fill-opacity=\"0.9\"/> <path d=\"M232.031 4H268.66L268.16 0H231.262C231.16 0.5 230.952 2.33536 232.031 4Z\" fill=\"url(#a)\" fill-opacity=\"0.9\"/> <path d=\"M167.612 75H130.162V41.5H167.612L167.612 75Z\" fill=\"url(#a)\" fill-opacity=\"0.9\"/> <path d=\"M270 341C269.5 358 270.5 384 268 400H132C129 380 130 357.4 130 341H270Z\" fill=\"#201E1E\"/> <path d=\"M171.227 343H187.773C190.742 359.958 190.743 359.5 187.772 376H171.228C168.257 359.5 168.258 359.958 171.227 343Z\" fill=\"url(#a)\"/> <path d=\"M171.227 377H187.773C190.043 389.574 190.578 392.273 189.376 400H169.624C168.422 392.273 168.957 389.574 171.227 377Z\" fill=\"url(#a)\"/> <path d=\"M191.333 356H208.667C211.778 373.472 211.778 373 208.666 390H191.334C188.222 373 188.222 373.472 191.333 356Z\" fill=\"url(#a)\"/> <path d=\"M191.334 391H208.667C209.376 394.745 209.923 397.613 210.308 400H189.692C190.078 397.613 190.625 394.745 191.334 391Z\" fill=\"url(#a)\"/> <path d=\"M212.227 343H228.773C231.742 359.958 231.743 359.5 228.772 376H212.228C209.257 359.5 209.258 359.958 212.227 343Z\" fill=\"url(#a)\"/> <path d=\"M212.227 377H228.773C231.043 389.574 231.578 392.273 230.376 400H210.624C209.422 392.273 209.957 389.574 212.227 377Z\" fill=\"url(#a)\"/> <path d=\"M232 359H269.939C269.939 376.5 270.438 379 268.629 395H232L232 394.999C229.5 377 229.5 377 232 359Z\" fill=\"url(#a)\" fill-opacity=\"0.9\"/> <path d=\"M232.55 325H270V358.5H232.55L232.55 325Z\" fill=\"url(#a)\" fill-opacity=\"0.9\"/> <path d=\"M168.002 359H130.063C130.063 376.5 129.564 379 131.373 395H168.002L168.002 394.999C170.502 377 170.502 377 168.002 359Z\" fill=\"url(#a)\" fill-opacity=\"0.9\"/> <path d=\"M168.147 396H131.5L132.002 400H169.22C169.5 399.5 169.22 397.665 168.147 396Z\" fill=\"url(#a)\" fill-opacity=\"0.9\"/> <path d=\"M231.87 396H268.5L268 400H231.102C231 399.5 230.792 397.665 231.87 396Z\" fill=\"url(#a)\" fill-opacity=\"0.9\"/> <path d=\"M167.452 325H130.002V358.5H167.452L167.452 325Z\" fill=\"url(#a)\" fill-opacity=\"0.9\"/>'}, '3': {'name': 'Genuine Rubber', 'code': '<path d=\"M270.16 341C269.66 358 271.5 385 268.16 400H132.16C128.5 380.5 130.16 357.4 130.16 341H270.16Z\" fill=\"url(#b)\"/> <path d=\"M230 341C229.5 358 230.5 384 228 400H173C170.5 384 171.5 358 171 341H230Z\" fill=\"#D9D9D9\" opacity=\"0.2\"/> <path d=\"M270.208 59C269.708 42 271.548 15 268.208 0H132.208C128.5 19 130.208 42.6 130.208 59H270.208Z\" fill=\"url(#b)\"/> <path d=\"M230.048 59C229.548 42 230.548 16 228.048 0H173.048C170.548 16 171.548 42 171.048 59H230.048Z\" fill=\"#D9D9D9\" opacity=\"0.2\"/>'}, '4': {'name': 'Nato', 'code': '<path d=\"M270.16 342C269.66 359 271.5 386 268.16 401H132.16C128.5 381.5 130.16 358.4 130.16 342H270.16Z\" fill=\"url(#b1)\"/> <path d=\"M267.5 401C271.34 386.5 268.66 359 269.16 342\" stroke=\"#000000\" stroke-width=\"1.5\" opacity=\".3\"/> <path d=\"M131 342C130.5 358 129.501 387 133 401\" stroke=\"#000000\" stroke-width=\"1.5\" opacity=\".3\"/> <path d=\"M217 342C216.5 359 217.5 385 215 401H241C243.5 385 242.5 359 243 342H217Z\" fill=\"url(#b)\"/> <path d=\"M183 342C183.5 359 182.5 385 185 401H159C156.5 385 157.5 359 157 342H183Z\" fill=\"url(#b)\"/> <path d=\"M270.376 60C269.876 43 271.716 16 268.376 1H132.376C128.716 20.5 130.376 43.6 130.376 60H270.376Z\" fill=\"url(#b1)\"/> <path d=\"M267.716 1C271.556 15.5 268.876 43 269.376 60\" stroke=\"#000000\" stroke-width=\"1.5\" opacity=\".3\"/> <path d=\"M131.216 60C130.716 44 129.716 15 133.216 1\" stroke=\"#000\" stroke-width=\"1.5\" opacity=\".3\"/> <path d=\"M217.216 60C216.716 43 217.716 17 215.216 1H241.216C243.716 17 242.716 43 243.216 60H217.216Z\" fill=\"url(#b)\"/> <path d=\"M183.216 60C183.716 43 182.716 17 185.216 1H159.216C156.716 17 157.716 43 157.216 60H183.216Z\" fill=\"url(#b)\"/>'}}}\n"
     ]
    }
   ],
   "source": [
    "dict_list = {}\n",
    "for nameOfFile in dir_list:\n",
    "    with open('./Data_json/'+nameOfFile) as f:\n",
    "        d = json.load(f)\n",
    "        new_dict = {nameOfFile[:-5]:d}\n",
    "        dict_list.update(new_dict)\n",
    "    #     print(type(d))\n",
    "print(dict_list)"
   ]
  },
  {
   "cell_type": "code",
   "execution_count": 32,
   "id": "c66490e2",
   "metadata": {},
   "outputs": [],
   "source": [
    "\n",
    "json_strint = json.dumps(dict_list, indent = 4)  \n",
    "# print(json_strint)\n",
    "with open('./Unified_json/SVG_DATA.json','w') as f:\n",
    "    f.write(json_strint)"
   ]
  },
  {
   "cell_type": "code",
   "execution_count": 33,
   "id": "01a47b4a",
   "metadata": {},
   "outputs": [
    {
     "data": {
      "text/plain": [
       "dict_keys(['bezel_marker', 'color_a', 'color_b', 'color_c', 'hands', 'hour_marker', 'minute_marker', 'strap'])"
      ]
     },
     "execution_count": 33,
     "metadata": {},
     "output_type": "execute_result"
    }
   ],
   "source": [
    "dict_list.keys()"
   ]
  },
  {
   "cell_type": "code",
   "execution_count": 34,
   "id": "f4a49972",
   "metadata": {},
   "outputs": [
    {
     "data": {
      "text/plain": [
       "'Fluted'"
      ]
     },
     "execution_count": 34,
     "metadata": {},
     "output_type": "execute_result"
    }
   ],
   "source": [
    "dict_list['bezel_marker']['0']['name']"
   ]
  },
  {
   "cell_type": "code",
   "execution_count": 35,
   "id": "96615454",
   "metadata": {},
   "outputs": [
    {
     "name": "stdout",
     "output_type": "stream",
     "text": [
      "{'bezel_marker': {'0': {'name': 'Fluted', 'code': 1}, '1': {'name': 'Dive', 'code': 1}, '2': {'name': 'count-up', 'code': 1}, '3': {'name': 'simple', 'code': 1}}, 'color_a': {'0': {'name': 'pepenite', 'code': 1}, '1': {'name': 'white gold', 'code': 1}, '2': {'name': 'Immutable Rose Gold', 'code': 1}, '3': {'name': 'Steel', 'code': 1}, '4': {'name': 'Gold', 'code': 1}, '5': {'name': 'Carbide', 'code': 1}}, 'color_b': {'0': {'name': 'Royal Azure', 'code': 1}, '1': {'name': 'Base Pink', 'code': 1}, '2': {'name': 'Tomato', 'code': 1}, '3': {'name': 'Lavender', 'code': 1}, '4': {'name': 'Sandstorm', 'code': 1}, '5': {'name': 'Lambo', 'code': 1}, '6': {'name': 'Zucchini', 'code': 1}, '7': {'name': 'Spruce', 'code': 1}, '8': {'name': 'Tiffany', 'code': 1}, '9': {'name': 'Jaguar', 'code': 1}, '10': {'name': 'Midnight', 'code': 1}, '11': {'name': 'Shiraz', 'code': 1}}, 'color_c': {'0': {'name': 'Gold', 'code': 1}, '1': {'name': 'Hulk', 'code': 1}, '2': {'name': 'Miladyium', 'code': 1}, '3': {'name': 'Carbide', 'code': 1}, '4': {'name': 'white Gold', 'code': 1}, '5': {'name': 'Candy Blue', 'code': 1}, '6': {'name': 'Steel', 'code': 1}, '7': {'name': 'Nakamigium', 'code': 1}, '8': {'name': 'Barbium', 'code': 1}, '9': {'name': 'Immutable Rose Gold', 'code': 1}}, 'hands': {'0': {'name': 'Plongeur', 'code': 1}, '1': {'name': 'Duaphine', 'code': 1}, '2': {'name': 'Baton', 'code': 1}}, 'hour_marker': {'0': {'name': 'Roman', 'code': 1}, '1': {'name': 'Numerals', 'code': 1}, '2': {'name': 'GM Time', 'code': 1}, '3': {'name': 'Arabic', 'code': 1}, '4': {'name': 'Double Baguette', 'code': 1}, '5': {'name': 'Baguette', 'code': 1}}, 'minute_marker': {'0': {'name': 'Railroad track with sub-seconds', 'code': 1}, '1': {'name': 'Sticks-1', 'code': 1}, '2': {'name': 'Sub-seconds', 'code': 1}, '3': {'name': 'Railroad track-1', 'code': 1}, '4': {'name': 'Sticks-2', 'code': 1}, '5': {'name': 'Railroad track-2', 'code': 1}, '6': {'name': 'Sticks-Numerals', 'code': 1}}, 'strap': {'0': {'name': 'Jubliee', 'code': 1}, '1': {'name': 'Oyster', 'code': 1}, '2': {'name': 'Jubilee Reverso', 'code': 1}, '3': {'name': 'Genuine Rubber', 'code': 1}, '4': {'name': 'Nato', 'code': 1}}}\n"
     ]
    }
   ],
   "source": [
    "new_dict = {}\n",
    "ll = []\n",
    "for k in dict_list.keys():\n",
    "    ll = []\n",
    "    sub_dict = dict_list[k].copy()\n",
    "    for kk in sub_dict.keys():\n",
    "        sub_dict[kk]['code'] = 1\n",
    "    dd = {k:sub_dict}\n",
    "    new_dict.update(dd)\n",
    "print(new_dict)"
   ]
  },
  {
   "cell_type": "code",
   "execution_count": 36,
   "id": "3a468385",
   "metadata": {},
   "outputs": [],
   "source": [
    "json_str = json.dumps(new_dict, indent = 4)  \n",
    "# print(json_strint)\n",
    "with open('./Unified_json/Quantities.json','w') as f:\n",
    "    f.write(json_str)"
   ]
  },
  {
   "cell_type": "code",
   "execution_count": null,
   "id": "692d63fd",
   "metadata": {},
   "outputs": [],
   "source": []
  }
 ],
 "metadata": {
  "kernelspec": {
   "display_name": "Python 3 (ipykernel)",
   "language": "python",
   "name": "python3"
  },
  "language_info": {
   "codemirror_mode": {
    "name": "ipython",
    "version": 3
   },
   "file_extension": ".py",
   "mimetype": "text/x-python",
   "name": "python",
   "nbconvert_exporter": "python",
   "pygments_lexer": "ipython3",
   "version": "3.9.13"
  }
 },
 "nbformat": 4,
 "nbformat_minor": 5
}
